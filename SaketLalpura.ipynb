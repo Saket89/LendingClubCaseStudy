{
 "cells": [
  {
   "cell_type": "markdown",
   "id": "090cae9b-1db1-498c-8e56-30b491e0cffa",
   "metadata": {},
   "source": [
    "# Lending Club Case Study"
   ]
  },
  {
   "cell_type": "markdown",
   "id": "a52293f7-4ce8-4474-a506-1be252e98b84",
   "metadata": {},
   "source": [
    "**Problem Statement**\n",
    "\n",
    "This company is the largest online loan marketplace, facilitating personal loans, business loans, and financing of medical procedures. Borrowers can easily access lower interest rate loans through a fast online interface.\n",
    "\n",
    "Like most other lending companies, lending loans to ‘risky’ applicants is the largest source of financial loss (called credit loss). Credit loss is the amount of money lost by the lender when the borrower refuses to pay or runs away with the money owed. In other words, borrowers who default cause the largest amount of loss to the lenders. In this case, the customers labelled as 'charged-off' are the 'defaulters'.\n",
    "\n",
    "If one is able to identify these risky loan applicants, then such loans can be reduced thereby cutting down the amount of credit loss. Identification of such applicants using EDA is the aim of this case study."
   ]
  },
  {
   "cell_type": "markdown",
   "id": "49cdd53d-748c-41f6-aa73-d7f40a656664",
   "metadata": {},
   "source": [
    "### Importing the required libraries"
   ]
  },
  {
   "cell_type": "code",
   "execution_count": 8,
   "id": "5d5068ec-9855-4546-8dfe-8ca52bb0c546",
   "metadata": {},
   "outputs": [],
   "source": [
    "# importing required libraries for analysis\n",
    "import numpy as np\n",
    "import pandas as pd\n",
    "import matplotlib.pyplot as plt\n",
    "import seaborn as sns\n",
    "import warnings\n",
    "warnings.filterwarnings(\"ignore\")"
   ]
  },
  {
   "cell_type": "code",
   "execution_count": 9,
   "id": "06a69fbd-e005-482d-8a33-6d06f543e69c",
   "metadata": {},
   "outputs": [],
   "source": [
    "# Used to increase the display size of rows and columns\n",
    "pd.set_option(\"display.max_columns\", 300)\n",
    "pd.set_option(\"display.max_rows\", 500)"
   ]
  },
  {
   "cell_type": "markdown",
   "id": "5f1f15d0-770d-428e-ad94-07c798478b97",
   "metadata": {},
   "source": [
    "### Understanding of Data"
   ]
  },
  {
   "cell_type": "code",
   "execution_count": 10,
   "id": "d067c165-a0bc-4dac-b619-f5dd33f2609a",
   "metadata": {},
   "outputs": [],
   "source": [
    "# Extracting the loan data in a dataframe\n",
    "loan_df = pd.read_csv(\"loan.csv\")"
   ]
  },
  {
   "cell_type": "code",
   "execution_count": 11,
   "id": "16a0e7e8-b25e-4f0a-bd8b-b687407af581",
   "metadata": {},
   "outputs": [
    {
     "data": {
      "text/html": [
       "<div>\n",
       "<style scoped>\n",
       "    .dataframe tbody tr th:only-of-type {\n",
       "        vertical-align: middle;\n",
       "    }\n",
       "\n",
       "    .dataframe tbody tr th {\n",
       "        vertical-align: top;\n",
       "    }\n",
       "\n",
       "    .dataframe thead th {\n",
       "        text-align: right;\n",
       "    }\n",
       "</style>\n",
       "<table border=\"1\" class=\"dataframe\">\n",
       "  <thead>\n",
       "    <tr style=\"text-align: right;\">\n",
       "      <th></th>\n",
       "      <th>id</th>\n",
       "      <th>member_id</th>\n",
       "      <th>loan_amnt</th>\n",
       "      <th>funded_amnt</th>\n",
       "      <th>funded_amnt_inv</th>\n",
       "      <th>term</th>\n",
       "      <th>int_rate</th>\n",
       "      <th>installment</th>\n",
       "      <th>grade</th>\n",
       "      <th>sub_grade</th>\n",
       "      <th>emp_title</th>\n",
       "      <th>emp_length</th>\n",
       "      <th>home_ownership</th>\n",
       "      <th>annual_inc</th>\n",
       "      <th>verification_status</th>\n",
       "      <th>issue_d</th>\n",
       "      <th>loan_status</th>\n",
       "      <th>pymnt_plan</th>\n",
       "      <th>url</th>\n",
       "      <th>desc</th>\n",
       "      <th>purpose</th>\n",
       "      <th>title</th>\n",
       "      <th>zip_code</th>\n",
       "      <th>addr_state</th>\n",
       "      <th>dti</th>\n",
       "      <th>delinq_2yrs</th>\n",
       "      <th>earliest_cr_line</th>\n",
       "      <th>inq_last_6mths</th>\n",
       "      <th>mths_since_last_delinq</th>\n",
       "      <th>mths_since_last_record</th>\n",
       "      <th>open_acc</th>\n",
       "      <th>pub_rec</th>\n",
       "      <th>revol_bal</th>\n",
       "      <th>revol_util</th>\n",
       "      <th>total_acc</th>\n",
       "      <th>initial_list_status</th>\n",
       "      <th>out_prncp</th>\n",
       "      <th>out_prncp_inv</th>\n",
       "      <th>total_pymnt</th>\n",
       "      <th>total_pymnt_inv</th>\n",
       "      <th>total_rec_prncp</th>\n",
       "      <th>total_rec_int</th>\n",
       "      <th>total_rec_late_fee</th>\n",
       "      <th>recoveries</th>\n",
       "      <th>collection_recovery_fee</th>\n",
       "      <th>last_pymnt_d</th>\n",
       "      <th>last_pymnt_amnt</th>\n",
       "      <th>next_pymnt_d</th>\n",
       "      <th>last_credit_pull_d</th>\n",
       "      <th>collections_12_mths_ex_med</th>\n",
       "      <th>mths_since_last_major_derog</th>\n",
       "      <th>policy_code</th>\n",
       "      <th>application_type</th>\n",
       "      <th>annual_inc_joint</th>\n",
       "      <th>dti_joint</th>\n",
       "      <th>verification_status_joint</th>\n",
       "      <th>acc_now_delinq</th>\n",
       "      <th>tot_coll_amt</th>\n",
       "      <th>tot_cur_bal</th>\n",
       "      <th>open_acc_6m</th>\n",
       "      <th>open_il_6m</th>\n",
       "      <th>open_il_12m</th>\n",
       "      <th>open_il_24m</th>\n",
       "      <th>mths_since_rcnt_il</th>\n",
       "      <th>total_bal_il</th>\n",
       "      <th>il_util</th>\n",
       "      <th>open_rv_12m</th>\n",
       "      <th>open_rv_24m</th>\n",
       "      <th>max_bal_bc</th>\n",
       "      <th>all_util</th>\n",
       "      <th>total_rev_hi_lim</th>\n",
       "      <th>inq_fi</th>\n",
       "      <th>total_cu_tl</th>\n",
       "      <th>inq_last_12m</th>\n",
       "      <th>acc_open_past_24mths</th>\n",
       "      <th>avg_cur_bal</th>\n",
       "      <th>bc_open_to_buy</th>\n",
       "      <th>bc_util</th>\n",
       "      <th>chargeoff_within_12_mths</th>\n",
       "      <th>delinq_amnt</th>\n",
       "      <th>mo_sin_old_il_acct</th>\n",
       "      <th>mo_sin_old_rev_tl_op</th>\n",
       "      <th>mo_sin_rcnt_rev_tl_op</th>\n",
       "      <th>mo_sin_rcnt_tl</th>\n",
       "      <th>mort_acc</th>\n",
       "      <th>mths_since_recent_bc</th>\n",
       "      <th>mths_since_recent_bc_dlq</th>\n",
       "      <th>mths_since_recent_inq</th>\n",
       "      <th>mths_since_recent_revol_delinq</th>\n",
       "      <th>num_accts_ever_120_pd</th>\n",
       "      <th>num_actv_bc_tl</th>\n",
       "      <th>num_actv_rev_tl</th>\n",
       "      <th>num_bc_sats</th>\n",
       "      <th>num_bc_tl</th>\n",
       "      <th>num_il_tl</th>\n",
       "      <th>num_op_rev_tl</th>\n",
       "      <th>num_rev_accts</th>\n",
       "      <th>num_rev_tl_bal_gt_0</th>\n",
       "      <th>num_sats</th>\n",
       "      <th>num_tl_120dpd_2m</th>\n",
       "      <th>num_tl_30dpd</th>\n",
       "      <th>num_tl_90g_dpd_24m</th>\n",
       "      <th>num_tl_op_past_12m</th>\n",
       "      <th>pct_tl_nvr_dlq</th>\n",
       "      <th>percent_bc_gt_75</th>\n",
       "      <th>pub_rec_bankruptcies</th>\n",
       "      <th>tax_liens</th>\n",
       "      <th>tot_hi_cred_lim</th>\n",
       "      <th>total_bal_ex_mort</th>\n",
       "      <th>total_bc_limit</th>\n",
       "      <th>total_il_high_credit_limit</th>\n",
       "    </tr>\n",
       "  </thead>\n",
       "  <tbody>\n",
       "    <tr>\n",
       "      <th>0</th>\n",
       "      <td>1077501</td>\n",
       "      <td>1296599</td>\n",
       "      <td>5000</td>\n",
       "      <td>5000</td>\n",
       "      <td>4975.0</td>\n",
       "      <td>36 months</td>\n",
       "      <td>10.65%</td>\n",
       "      <td>162.87</td>\n",
       "      <td>B</td>\n",
       "      <td>B2</td>\n",
       "      <td>NaN</td>\n",
       "      <td>10+ years</td>\n",
       "      <td>RENT</td>\n",
       "      <td>24000.0</td>\n",
       "      <td>Verified</td>\n",
       "      <td>Dec-11</td>\n",
       "      <td>Fully Paid</td>\n",
       "      <td>n</td>\n",
       "      <td>https://lendingclub.com/browse/loanDetail.acti...</td>\n",
       "      <td>Borrower added on 12/22/11 &gt; I need to upgra...</td>\n",
       "      <td>credit_card</td>\n",
       "      <td>Computer</td>\n",
       "      <td>860xx</td>\n",
       "      <td>AZ</td>\n",
       "      <td>27.65</td>\n",
       "      <td>0</td>\n",
       "      <td>Jan-85</td>\n",
       "      <td>1</td>\n",
       "      <td>NaN</td>\n",
       "      <td>NaN</td>\n",
       "      <td>3</td>\n",
       "      <td>0</td>\n",
       "      <td>13648</td>\n",
       "      <td>83.70%</td>\n",
       "      <td>9</td>\n",
       "      <td>f</td>\n",
       "      <td>0.00</td>\n",
       "      <td>0.00</td>\n",
       "      <td>5863.155187</td>\n",
       "      <td>5833.84</td>\n",
       "      <td>5000.00</td>\n",
       "      <td>863.16</td>\n",
       "      <td>0.00</td>\n",
       "      <td>0.00</td>\n",
       "      <td>0.00</td>\n",
       "      <td>Jan-15</td>\n",
       "      <td>171.62</td>\n",
       "      <td>NaN</td>\n",
       "      <td>May-16</td>\n",
       "      <td>0.0</td>\n",
       "      <td>NaN</td>\n",
       "      <td>1</td>\n",
       "      <td>INDIVIDUAL</td>\n",
       "      <td>NaN</td>\n",
       "      <td>NaN</td>\n",
       "      <td>NaN</td>\n",
       "      <td>0</td>\n",
       "      <td>NaN</td>\n",
       "      <td>NaN</td>\n",
       "      <td>NaN</td>\n",
       "      <td>NaN</td>\n",
       "      <td>NaN</td>\n",
       "      <td>NaN</td>\n",
       "      <td>NaN</td>\n",
       "      <td>NaN</td>\n",
       "      <td>NaN</td>\n",
       "      <td>NaN</td>\n",
       "      <td>NaN</td>\n",
       "      <td>NaN</td>\n",
       "      <td>NaN</td>\n",
       "      <td>NaN</td>\n",
       "      <td>NaN</td>\n",
       "      <td>NaN</td>\n",
       "      <td>NaN</td>\n",
       "      <td>NaN</td>\n",
       "      <td>NaN</td>\n",
       "      <td>NaN</td>\n",
       "      <td>NaN</td>\n",
       "      <td>0.0</td>\n",
       "      <td>0</td>\n",
       "      <td>NaN</td>\n",
       "      <td>NaN</td>\n",
       "      <td>NaN</td>\n",
       "      <td>NaN</td>\n",
       "      <td>NaN</td>\n",
       "      <td>NaN</td>\n",
       "      <td>NaN</td>\n",
       "      <td>NaN</td>\n",
       "      <td>NaN</td>\n",
       "      <td>NaN</td>\n",
       "      <td>NaN</td>\n",
       "      <td>NaN</td>\n",
       "      <td>NaN</td>\n",
       "      <td>NaN</td>\n",
       "      <td>NaN</td>\n",
       "      <td>NaN</td>\n",
       "      <td>NaN</td>\n",
       "      <td>NaN</td>\n",
       "      <td>NaN</td>\n",
       "      <td>NaN</td>\n",
       "      <td>NaN</td>\n",
       "      <td>NaN</td>\n",
       "      <td>NaN</td>\n",
       "      <td>NaN</td>\n",
       "      <td>NaN</td>\n",
       "      <td>0.0</td>\n",
       "      <td>0.0</td>\n",
       "      <td>NaN</td>\n",
       "      <td>NaN</td>\n",
       "      <td>NaN</td>\n",
       "      <td>NaN</td>\n",
       "    </tr>\n",
       "    <tr>\n",
       "      <th>1</th>\n",
       "      <td>1077430</td>\n",
       "      <td>1314167</td>\n",
       "      <td>2500</td>\n",
       "      <td>2500</td>\n",
       "      <td>2500.0</td>\n",
       "      <td>60 months</td>\n",
       "      <td>15.27%</td>\n",
       "      <td>59.83</td>\n",
       "      <td>C</td>\n",
       "      <td>C4</td>\n",
       "      <td>Ryder</td>\n",
       "      <td>&lt; 1 year</td>\n",
       "      <td>RENT</td>\n",
       "      <td>30000.0</td>\n",
       "      <td>Source Verified</td>\n",
       "      <td>Dec-11</td>\n",
       "      <td>Charged Off</td>\n",
       "      <td>n</td>\n",
       "      <td>https://lendingclub.com/browse/loanDetail.acti...</td>\n",
       "      <td>Borrower added on 12/22/11 &gt; I plan to use t...</td>\n",
       "      <td>car</td>\n",
       "      <td>bike</td>\n",
       "      <td>309xx</td>\n",
       "      <td>GA</td>\n",
       "      <td>1.00</td>\n",
       "      <td>0</td>\n",
       "      <td>Apr-99</td>\n",
       "      <td>5</td>\n",
       "      <td>NaN</td>\n",
       "      <td>NaN</td>\n",
       "      <td>3</td>\n",
       "      <td>0</td>\n",
       "      <td>1687</td>\n",
       "      <td>9.40%</td>\n",
       "      <td>4</td>\n",
       "      <td>f</td>\n",
       "      <td>0.00</td>\n",
       "      <td>0.00</td>\n",
       "      <td>1008.710000</td>\n",
       "      <td>1008.71</td>\n",
       "      <td>456.46</td>\n",
       "      <td>435.17</td>\n",
       "      <td>0.00</td>\n",
       "      <td>117.08</td>\n",
       "      <td>1.11</td>\n",
       "      <td>Apr-13</td>\n",
       "      <td>119.66</td>\n",
       "      <td>NaN</td>\n",
       "      <td>Sep-13</td>\n",
       "      <td>0.0</td>\n",
       "      <td>NaN</td>\n",
       "      <td>1</td>\n",
       "      <td>INDIVIDUAL</td>\n",
       "      <td>NaN</td>\n",
       "      <td>NaN</td>\n",
       "      <td>NaN</td>\n",
       "      <td>0</td>\n",
       "      <td>NaN</td>\n",
       "      <td>NaN</td>\n",
       "      <td>NaN</td>\n",
       "      <td>NaN</td>\n",
       "      <td>NaN</td>\n",
       "      <td>NaN</td>\n",
       "      <td>NaN</td>\n",
       "      <td>NaN</td>\n",
       "      <td>NaN</td>\n",
       "      <td>NaN</td>\n",
       "      <td>NaN</td>\n",
       "      <td>NaN</td>\n",
       "      <td>NaN</td>\n",
       "      <td>NaN</td>\n",
       "      <td>NaN</td>\n",
       "      <td>NaN</td>\n",
       "      <td>NaN</td>\n",
       "      <td>NaN</td>\n",
       "      <td>NaN</td>\n",
       "      <td>NaN</td>\n",
       "      <td>NaN</td>\n",
       "      <td>0.0</td>\n",
       "      <td>0</td>\n",
       "      <td>NaN</td>\n",
       "      <td>NaN</td>\n",
       "      <td>NaN</td>\n",
       "      <td>NaN</td>\n",
       "      <td>NaN</td>\n",
       "      <td>NaN</td>\n",
       "      <td>NaN</td>\n",
       "      <td>NaN</td>\n",
       "      <td>NaN</td>\n",
       "      <td>NaN</td>\n",
       "      <td>NaN</td>\n",
       "      <td>NaN</td>\n",
       "      <td>NaN</td>\n",
       "      <td>NaN</td>\n",
       "      <td>NaN</td>\n",
       "      <td>NaN</td>\n",
       "      <td>NaN</td>\n",
       "      <td>NaN</td>\n",
       "      <td>NaN</td>\n",
       "      <td>NaN</td>\n",
       "      <td>NaN</td>\n",
       "      <td>NaN</td>\n",
       "      <td>NaN</td>\n",
       "      <td>NaN</td>\n",
       "      <td>NaN</td>\n",
       "      <td>0.0</td>\n",
       "      <td>0.0</td>\n",
       "      <td>NaN</td>\n",
       "      <td>NaN</td>\n",
       "      <td>NaN</td>\n",
       "      <td>NaN</td>\n",
       "    </tr>\n",
       "    <tr>\n",
       "      <th>2</th>\n",
       "      <td>1077175</td>\n",
       "      <td>1313524</td>\n",
       "      <td>2400</td>\n",
       "      <td>2400</td>\n",
       "      <td>2400.0</td>\n",
       "      <td>36 months</td>\n",
       "      <td>15.96%</td>\n",
       "      <td>84.33</td>\n",
       "      <td>C</td>\n",
       "      <td>C5</td>\n",
       "      <td>NaN</td>\n",
       "      <td>10+ years</td>\n",
       "      <td>RENT</td>\n",
       "      <td>12252.0</td>\n",
       "      <td>Not Verified</td>\n",
       "      <td>Dec-11</td>\n",
       "      <td>Fully Paid</td>\n",
       "      <td>n</td>\n",
       "      <td>https://lendingclub.com/browse/loanDetail.acti...</td>\n",
       "      <td>NaN</td>\n",
       "      <td>small_business</td>\n",
       "      <td>real estate business</td>\n",
       "      <td>606xx</td>\n",
       "      <td>IL</td>\n",
       "      <td>8.72</td>\n",
       "      <td>0</td>\n",
       "      <td>Nov-01</td>\n",
       "      <td>2</td>\n",
       "      <td>NaN</td>\n",
       "      <td>NaN</td>\n",
       "      <td>2</td>\n",
       "      <td>0</td>\n",
       "      <td>2956</td>\n",
       "      <td>98.50%</td>\n",
       "      <td>10</td>\n",
       "      <td>f</td>\n",
       "      <td>0.00</td>\n",
       "      <td>0.00</td>\n",
       "      <td>3005.666844</td>\n",
       "      <td>3005.67</td>\n",
       "      <td>2400.00</td>\n",
       "      <td>605.67</td>\n",
       "      <td>0.00</td>\n",
       "      <td>0.00</td>\n",
       "      <td>0.00</td>\n",
       "      <td>Jun-14</td>\n",
       "      <td>649.91</td>\n",
       "      <td>NaN</td>\n",
       "      <td>May-16</td>\n",
       "      <td>0.0</td>\n",
       "      <td>NaN</td>\n",
       "      <td>1</td>\n",
       "      <td>INDIVIDUAL</td>\n",
       "      <td>NaN</td>\n",
       "      <td>NaN</td>\n",
       "      <td>NaN</td>\n",
       "      <td>0</td>\n",
       "      <td>NaN</td>\n",
       "      <td>NaN</td>\n",
       "      <td>NaN</td>\n",
       "      <td>NaN</td>\n",
       "      <td>NaN</td>\n",
       "      <td>NaN</td>\n",
       "      <td>NaN</td>\n",
       "      <td>NaN</td>\n",
       "      <td>NaN</td>\n",
       "      <td>NaN</td>\n",
       "      <td>NaN</td>\n",
       "      <td>NaN</td>\n",
       "      <td>NaN</td>\n",
       "      <td>NaN</td>\n",
       "      <td>NaN</td>\n",
       "      <td>NaN</td>\n",
       "      <td>NaN</td>\n",
       "      <td>NaN</td>\n",
       "      <td>NaN</td>\n",
       "      <td>NaN</td>\n",
       "      <td>NaN</td>\n",
       "      <td>0.0</td>\n",
       "      <td>0</td>\n",
       "      <td>NaN</td>\n",
       "      <td>NaN</td>\n",
       "      <td>NaN</td>\n",
       "      <td>NaN</td>\n",
       "      <td>NaN</td>\n",
       "      <td>NaN</td>\n",
       "      <td>NaN</td>\n",
       "      <td>NaN</td>\n",
       "      <td>NaN</td>\n",
       "      <td>NaN</td>\n",
       "      <td>NaN</td>\n",
       "      <td>NaN</td>\n",
       "      <td>NaN</td>\n",
       "      <td>NaN</td>\n",
       "      <td>NaN</td>\n",
       "      <td>NaN</td>\n",
       "      <td>NaN</td>\n",
       "      <td>NaN</td>\n",
       "      <td>NaN</td>\n",
       "      <td>NaN</td>\n",
       "      <td>NaN</td>\n",
       "      <td>NaN</td>\n",
       "      <td>NaN</td>\n",
       "      <td>NaN</td>\n",
       "      <td>NaN</td>\n",
       "      <td>0.0</td>\n",
       "      <td>0.0</td>\n",
       "      <td>NaN</td>\n",
       "      <td>NaN</td>\n",
       "      <td>NaN</td>\n",
       "      <td>NaN</td>\n",
       "    </tr>\n",
       "    <tr>\n",
       "      <th>3</th>\n",
       "      <td>1076863</td>\n",
       "      <td>1277178</td>\n",
       "      <td>10000</td>\n",
       "      <td>10000</td>\n",
       "      <td>10000.0</td>\n",
       "      <td>36 months</td>\n",
       "      <td>13.49%</td>\n",
       "      <td>339.31</td>\n",
       "      <td>C</td>\n",
       "      <td>C1</td>\n",
       "      <td>AIR RESOURCES BOARD</td>\n",
       "      <td>10+ years</td>\n",
       "      <td>RENT</td>\n",
       "      <td>49200.0</td>\n",
       "      <td>Source Verified</td>\n",
       "      <td>Dec-11</td>\n",
       "      <td>Fully Paid</td>\n",
       "      <td>n</td>\n",
       "      <td>https://lendingclub.com/browse/loanDetail.acti...</td>\n",
       "      <td>Borrower added on 12/21/11 &gt; to pay for prop...</td>\n",
       "      <td>other</td>\n",
       "      <td>personel</td>\n",
       "      <td>917xx</td>\n",
       "      <td>CA</td>\n",
       "      <td>20.00</td>\n",
       "      <td>0</td>\n",
       "      <td>Feb-96</td>\n",
       "      <td>1</td>\n",
       "      <td>35.0</td>\n",
       "      <td>NaN</td>\n",
       "      <td>10</td>\n",
       "      <td>0</td>\n",
       "      <td>5598</td>\n",
       "      <td>21%</td>\n",
       "      <td>37</td>\n",
       "      <td>f</td>\n",
       "      <td>0.00</td>\n",
       "      <td>0.00</td>\n",
       "      <td>12231.890000</td>\n",
       "      <td>12231.89</td>\n",
       "      <td>10000.00</td>\n",
       "      <td>2214.92</td>\n",
       "      <td>16.97</td>\n",
       "      <td>0.00</td>\n",
       "      <td>0.00</td>\n",
       "      <td>Jan-15</td>\n",
       "      <td>357.48</td>\n",
       "      <td>NaN</td>\n",
       "      <td>Apr-16</td>\n",
       "      <td>0.0</td>\n",
       "      <td>NaN</td>\n",
       "      <td>1</td>\n",
       "      <td>INDIVIDUAL</td>\n",
       "      <td>NaN</td>\n",
       "      <td>NaN</td>\n",
       "      <td>NaN</td>\n",
       "      <td>0</td>\n",
       "      <td>NaN</td>\n",
       "      <td>NaN</td>\n",
       "      <td>NaN</td>\n",
       "      <td>NaN</td>\n",
       "      <td>NaN</td>\n",
       "      <td>NaN</td>\n",
       "      <td>NaN</td>\n",
       "      <td>NaN</td>\n",
       "      <td>NaN</td>\n",
       "      <td>NaN</td>\n",
       "      <td>NaN</td>\n",
       "      <td>NaN</td>\n",
       "      <td>NaN</td>\n",
       "      <td>NaN</td>\n",
       "      <td>NaN</td>\n",
       "      <td>NaN</td>\n",
       "      <td>NaN</td>\n",
       "      <td>NaN</td>\n",
       "      <td>NaN</td>\n",
       "      <td>NaN</td>\n",
       "      <td>NaN</td>\n",
       "      <td>0.0</td>\n",
       "      <td>0</td>\n",
       "      <td>NaN</td>\n",
       "      <td>NaN</td>\n",
       "      <td>NaN</td>\n",
       "      <td>NaN</td>\n",
       "      <td>NaN</td>\n",
       "      <td>NaN</td>\n",
       "      <td>NaN</td>\n",
       "      <td>NaN</td>\n",
       "      <td>NaN</td>\n",
       "      <td>NaN</td>\n",
       "      <td>NaN</td>\n",
       "      <td>NaN</td>\n",
       "      <td>NaN</td>\n",
       "      <td>NaN</td>\n",
       "      <td>NaN</td>\n",
       "      <td>NaN</td>\n",
       "      <td>NaN</td>\n",
       "      <td>NaN</td>\n",
       "      <td>NaN</td>\n",
       "      <td>NaN</td>\n",
       "      <td>NaN</td>\n",
       "      <td>NaN</td>\n",
       "      <td>NaN</td>\n",
       "      <td>NaN</td>\n",
       "      <td>NaN</td>\n",
       "      <td>0.0</td>\n",
       "      <td>0.0</td>\n",
       "      <td>NaN</td>\n",
       "      <td>NaN</td>\n",
       "      <td>NaN</td>\n",
       "      <td>NaN</td>\n",
       "    </tr>\n",
       "    <tr>\n",
       "      <th>4</th>\n",
       "      <td>1075358</td>\n",
       "      <td>1311748</td>\n",
       "      <td>3000</td>\n",
       "      <td>3000</td>\n",
       "      <td>3000.0</td>\n",
       "      <td>60 months</td>\n",
       "      <td>12.69%</td>\n",
       "      <td>67.79</td>\n",
       "      <td>B</td>\n",
       "      <td>B5</td>\n",
       "      <td>University Medical Group</td>\n",
       "      <td>1 year</td>\n",
       "      <td>RENT</td>\n",
       "      <td>80000.0</td>\n",
       "      <td>Source Verified</td>\n",
       "      <td>Dec-11</td>\n",
       "      <td>Current</td>\n",
       "      <td>n</td>\n",
       "      <td>https://lendingclub.com/browse/loanDetail.acti...</td>\n",
       "      <td>Borrower added on 12/21/11 &gt; I plan on combi...</td>\n",
       "      <td>other</td>\n",
       "      <td>Personal</td>\n",
       "      <td>972xx</td>\n",
       "      <td>OR</td>\n",
       "      <td>17.94</td>\n",
       "      <td>0</td>\n",
       "      <td>Jan-96</td>\n",
       "      <td>0</td>\n",
       "      <td>38.0</td>\n",
       "      <td>NaN</td>\n",
       "      <td>15</td>\n",
       "      <td>0</td>\n",
       "      <td>27783</td>\n",
       "      <td>53.90%</td>\n",
       "      <td>38</td>\n",
       "      <td>f</td>\n",
       "      <td>524.06</td>\n",
       "      <td>524.06</td>\n",
       "      <td>3513.330000</td>\n",
       "      <td>3513.33</td>\n",
       "      <td>2475.94</td>\n",
       "      <td>1037.39</td>\n",
       "      <td>0.00</td>\n",
       "      <td>0.00</td>\n",
       "      <td>0.00</td>\n",
       "      <td>May-16</td>\n",
       "      <td>67.79</td>\n",
       "      <td>Jun-16</td>\n",
       "      <td>May-16</td>\n",
       "      <td>0.0</td>\n",
       "      <td>NaN</td>\n",
       "      <td>1</td>\n",
       "      <td>INDIVIDUAL</td>\n",
       "      <td>NaN</td>\n",
       "      <td>NaN</td>\n",
       "      <td>NaN</td>\n",
       "      <td>0</td>\n",
       "      <td>NaN</td>\n",
       "      <td>NaN</td>\n",
       "      <td>NaN</td>\n",
       "      <td>NaN</td>\n",
       "      <td>NaN</td>\n",
       "      <td>NaN</td>\n",
       "      <td>NaN</td>\n",
       "      <td>NaN</td>\n",
       "      <td>NaN</td>\n",
       "      <td>NaN</td>\n",
       "      <td>NaN</td>\n",
       "      <td>NaN</td>\n",
       "      <td>NaN</td>\n",
       "      <td>NaN</td>\n",
       "      <td>NaN</td>\n",
       "      <td>NaN</td>\n",
       "      <td>NaN</td>\n",
       "      <td>NaN</td>\n",
       "      <td>NaN</td>\n",
       "      <td>NaN</td>\n",
       "      <td>NaN</td>\n",
       "      <td>0.0</td>\n",
       "      <td>0</td>\n",
       "      <td>NaN</td>\n",
       "      <td>NaN</td>\n",
       "      <td>NaN</td>\n",
       "      <td>NaN</td>\n",
       "      <td>NaN</td>\n",
       "      <td>NaN</td>\n",
       "      <td>NaN</td>\n",
       "      <td>NaN</td>\n",
       "      <td>NaN</td>\n",
       "      <td>NaN</td>\n",
       "      <td>NaN</td>\n",
       "      <td>NaN</td>\n",
       "      <td>NaN</td>\n",
       "      <td>NaN</td>\n",
       "      <td>NaN</td>\n",
       "      <td>NaN</td>\n",
       "      <td>NaN</td>\n",
       "      <td>NaN</td>\n",
       "      <td>NaN</td>\n",
       "      <td>NaN</td>\n",
       "      <td>NaN</td>\n",
       "      <td>NaN</td>\n",
       "      <td>NaN</td>\n",
       "      <td>NaN</td>\n",
       "      <td>NaN</td>\n",
       "      <td>0.0</td>\n",
       "      <td>0.0</td>\n",
       "      <td>NaN</td>\n",
       "      <td>NaN</td>\n",
       "      <td>NaN</td>\n",
       "      <td>NaN</td>\n",
       "    </tr>\n",
       "  </tbody>\n",
       "</table>\n",
       "</div>"
      ],
      "text/plain": [
       "        id  member_id  loan_amnt  funded_amnt  funded_amnt_inv        term  \\\n",
       "0  1077501    1296599       5000         5000           4975.0   36 months   \n",
       "1  1077430    1314167       2500         2500           2500.0   60 months   \n",
       "2  1077175    1313524       2400         2400           2400.0   36 months   \n",
       "3  1076863    1277178      10000        10000          10000.0   36 months   \n",
       "4  1075358    1311748       3000         3000           3000.0   60 months   \n",
       "\n",
       "  int_rate  installment grade sub_grade                 emp_title emp_length  \\\n",
       "0   10.65%       162.87     B        B2                       NaN  10+ years   \n",
       "1   15.27%        59.83     C        C4                     Ryder   < 1 year   \n",
       "2   15.96%        84.33     C        C5                       NaN  10+ years   \n",
       "3   13.49%       339.31     C        C1       AIR RESOURCES BOARD  10+ years   \n",
       "4   12.69%        67.79     B        B5  University Medical Group     1 year   \n",
       "\n",
       "  home_ownership  annual_inc verification_status issue_d  loan_status  \\\n",
       "0           RENT     24000.0            Verified  Dec-11   Fully Paid   \n",
       "1           RENT     30000.0     Source Verified  Dec-11  Charged Off   \n",
       "2           RENT     12252.0        Not Verified  Dec-11   Fully Paid   \n",
       "3           RENT     49200.0     Source Verified  Dec-11   Fully Paid   \n",
       "4           RENT     80000.0     Source Verified  Dec-11      Current   \n",
       "\n",
       "  pymnt_plan                                                url  \\\n",
       "0          n  https://lendingclub.com/browse/loanDetail.acti...   \n",
       "1          n  https://lendingclub.com/browse/loanDetail.acti...   \n",
       "2          n  https://lendingclub.com/browse/loanDetail.acti...   \n",
       "3          n  https://lendingclub.com/browse/loanDetail.acti...   \n",
       "4          n  https://lendingclub.com/browse/loanDetail.acti...   \n",
       "\n",
       "                                                desc         purpose  \\\n",
       "0    Borrower added on 12/22/11 > I need to upgra...     credit_card   \n",
       "1    Borrower added on 12/22/11 > I plan to use t...             car   \n",
       "2                                                NaN  small_business   \n",
       "3    Borrower added on 12/21/11 > to pay for prop...           other   \n",
       "4    Borrower added on 12/21/11 > I plan on combi...           other   \n",
       "\n",
       "                  title zip_code addr_state    dti  delinq_2yrs  \\\n",
       "0              Computer    860xx         AZ  27.65            0   \n",
       "1                  bike    309xx         GA   1.00            0   \n",
       "2  real estate business    606xx         IL   8.72            0   \n",
       "3              personel    917xx         CA  20.00            0   \n",
       "4              Personal    972xx         OR  17.94            0   \n",
       "\n",
       "  earliest_cr_line  inq_last_6mths  mths_since_last_delinq  \\\n",
       "0           Jan-85               1                     NaN   \n",
       "1           Apr-99               5                     NaN   \n",
       "2           Nov-01               2                     NaN   \n",
       "3           Feb-96               1                    35.0   \n",
       "4           Jan-96               0                    38.0   \n",
       "\n",
       "   mths_since_last_record  open_acc  pub_rec  revol_bal revol_util  total_acc  \\\n",
       "0                     NaN         3        0      13648     83.70%          9   \n",
       "1                     NaN         3        0       1687      9.40%          4   \n",
       "2                     NaN         2        0       2956     98.50%         10   \n",
       "3                     NaN        10        0       5598        21%         37   \n",
       "4                     NaN        15        0      27783     53.90%         38   \n",
       "\n",
       "  initial_list_status  out_prncp  out_prncp_inv   total_pymnt  \\\n",
       "0                   f       0.00           0.00   5863.155187   \n",
       "1                   f       0.00           0.00   1008.710000   \n",
       "2                   f       0.00           0.00   3005.666844   \n",
       "3                   f       0.00           0.00  12231.890000   \n",
       "4                   f     524.06         524.06   3513.330000   \n",
       "\n",
       "   total_pymnt_inv  total_rec_prncp  total_rec_int  total_rec_late_fee  \\\n",
       "0          5833.84          5000.00         863.16                0.00   \n",
       "1          1008.71           456.46         435.17                0.00   \n",
       "2          3005.67          2400.00         605.67                0.00   \n",
       "3         12231.89         10000.00        2214.92               16.97   \n",
       "4          3513.33          2475.94        1037.39                0.00   \n",
       "\n",
       "   recoveries  collection_recovery_fee last_pymnt_d  last_pymnt_amnt  \\\n",
       "0        0.00                     0.00       Jan-15           171.62   \n",
       "1      117.08                     1.11       Apr-13           119.66   \n",
       "2        0.00                     0.00       Jun-14           649.91   \n",
       "3        0.00                     0.00       Jan-15           357.48   \n",
       "4        0.00                     0.00       May-16            67.79   \n",
       "\n",
       "  next_pymnt_d last_credit_pull_d  collections_12_mths_ex_med  \\\n",
       "0          NaN             May-16                         0.0   \n",
       "1          NaN             Sep-13                         0.0   \n",
       "2          NaN             May-16                         0.0   \n",
       "3          NaN             Apr-16                         0.0   \n",
       "4       Jun-16             May-16                         0.0   \n",
       "\n",
       "   mths_since_last_major_derog  policy_code application_type  \\\n",
       "0                          NaN            1       INDIVIDUAL   \n",
       "1                          NaN            1       INDIVIDUAL   \n",
       "2                          NaN            1       INDIVIDUAL   \n",
       "3                          NaN            1       INDIVIDUAL   \n",
       "4                          NaN            1       INDIVIDUAL   \n",
       "\n",
       "   annual_inc_joint  dti_joint  verification_status_joint  acc_now_delinq  \\\n",
       "0               NaN        NaN                        NaN               0   \n",
       "1               NaN        NaN                        NaN               0   \n",
       "2               NaN        NaN                        NaN               0   \n",
       "3               NaN        NaN                        NaN               0   \n",
       "4               NaN        NaN                        NaN               0   \n",
       "\n",
       "   tot_coll_amt  tot_cur_bal  open_acc_6m  open_il_6m  open_il_12m  \\\n",
       "0           NaN          NaN          NaN         NaN          NaN   \n",
       "1           NaN          NaN          NaN         NaN          NaN   \n",
       "2           NaN          NaN          NaN         NaN          NaN   \n",
       "3           NaN          NaN          NaN         NaN          NaN   \n",
       "4           NaN          NaN          NaN         NaN          NaN   \n",
       "\n",
       "   open_il_24m  mths_since_rcnt_il  total_bal_il  il_util  open_rv_12m  \\\n",
       "0          NaN                 NaN           NaN      NaN          NaN   \n",
       "1          NaN                 NaN           NaN      NaN          NaN   \n",
       "2          NaN                 NaN           NaN      NaN          NaN   \n",
       "3          NaN                 NaN           NaN      NaN          NaN   \n",
       "4          NaN                 NaN           NaN      NaN          NaN   \n",
       "\n",
       "   open_rv_24m  max_bal_bc  all_util  total_rev_hi_lim  inq_fi  total_cu_tl  \\\n",
       "0          NaN         NaN       NaN               NaN     NaN          NaN   \n",
       "1          NaN         NaN       NaN               NaN     NaN          NaN   \n",
       "2          NaN         NaN       NaN               NaN     NaN          NaN   \n",
       "3          NaN         NaN       NaN               NaN     NaN          NaN   \n",
       "4          NaN         NaN       NaN               NaN     NaN          NaN   \n",
       "\n",
       "   inq_last_12m  acc_open_past_24mths  avg_cur_bal  bc_open_to_buy  bc_util  \\\n",
       "0           NaN                   NaN          NaN             NaN      NaN   \n",
       "1           NaN                   NaN          NaN             NaN      NaN   \n",
       "2           NaN                   NaN          NaN             NaN      NaN   \n",
       "3           NaN                   NaN          NaN             NaN      NaN   \n",
       "4           NaN                   NaN          NaN             NaN      NaN   \n",
       "\n",
       "   chargeoff_within_12_mths  delinq_amnt  mo_sin_old_il_acct  \\\n",
       "0                       0.0            0                 NaN   \n",
       "1                       0.0            0                 NaN   \n",
       "2                       0.0            0                 NaN   \n",
       "3                       0.0            0                 NaN   \n",
       "4                       0.0            0                 NaN   \n",
       "\n",
       "   mo_sin_old_rev_tl_op  mo_sin_rcnt_rev_tl_op  mo_sin_rcnt_tl  mort_acc  \\\n",
       "0                   NaN                    NaN             NaN       NaN   \n",
       "1                   NaN                    NaN             NaN       NaN   \n",
       "2                   NaN                    NaN             NaN       NaN   \n",
       "3                   NaN                    NaN             NaN       NaN   \n",
       "4                   NaN                    NaN             NaN       NaN   \n",
       "\n",
       "   mths_since_recent_bc  mths_since_recent_bc_dlq  mths_since_recent_inq  \\\n",
       "0                   NaN                       NaN                    NaN   \n",
       "1                   NaN                       NaN                    NaN   \n",
       "2                   NaN                       NaN                    NaN   \n",
       "3                   NaN                       NaN                    NaN   \n",
       "4                   NaN                       NaN                    NaN   \n",
       "\n",
       "   mths_since_recent_revol_delinq  num_accts_ever_120_pd  num_actv_bc_tl  \\\n",
       "0                             NaN                    NaN             NaN   \n",
       "1                             NaN                    NaN             NaN   \n",
       "2                             NaN                    NaN             NaN   \n",
       "3                             NaN                    NaN             NaN   \n",
       "4                             NaN                    NaN             NaN   \n",
       "\n",
       "   num_actv_rev_tl  num_bc_sats  num_bc_tl  num_il_tl  num_op_rev_tl  \\\n",
       "0              NaN          NaN        NaN        NaN            NaN   \n",
       "1              NaN          NaN        NaN        NaN            NaN   \n",
       "2              NaN          NaN        NaN        NaN            NaN   \n",
       "3              NaN          NaN        NaN        NaN            NaN   \n",
       "4              NaN          NaN        NaN        NaN            NaN   \n",
       "\n",
       "   num_rev_accts  num_rev_tl_bal_gt_0  num_sats  num_tl_120dpd_2m  \\\n",
       "0            NaN                  NaN       NaN               NaN   \n",
       "1            NaN                  NaN       NaN               NaN   \n",
       "2            NaN                  NaN       NaN               NaN   \n",
       "3            NaN                  NaN       NaN               NaN   \n",
       "4            NaN                  NaN       NaN               NaN   \n",
       "\n",
       "   num_tl_30dpd  num_tl_90g_dpd_24m  num_tl_op_past_12m  pct_tl_nvr_dlq  \\\n",
       "0           NaN                 NaN                 NaN             NaN   \n",
       "1           NaN                 NaN                 NaN             NaN   \n",
       "2           NaN                 NaN                 NaN             NaN   \n",
       "3           NaN                 NaN                 NaN             NaN   \n",
       "4           NaN                 NaN                 NaN             NaN   \n",
       "\n",
       "   percent_bc_gt_75  pub_rec_bankruptcies  tax_liens  tot_hi_cred_lim  \\\n",
       "0               NaN                   0.0        0.0              NaN   \n",
       "1               NaN                   0.0        0.0              NaN   \n",
       "2               NaN                   0.0        0.0              NaN   \n",
       "3               NaN                   0.0        0.0              NaN   \n",
       "4               NaN                   0.0        0.0              NaN   \n",
       "\n",
       "   total_bal_ex_mort  total_bc_limit  total_il_high_credit_limit  \n",
       "0                NaN             NaN                         NaN  \n",
       "1                NaN             NaN                         NaN  \n",
       "2                NaN             NaN                         NaN  \n",
       "3                NaN             NaN                         NaN  \n",
       "4                NaN             NaN                         NaN  "
      ]
     },
     "execution_count": 11,
     "metadata": {},
     "output_type": "execute_result"
    }
   ],
   "source": [
    "loan_df.head()"
   ]
  },
  {
   "cell_type": "code",
   "execution_count": 12,
   "id": "eb8595ca-bd76-4fe5-a247-440e07db7d4a",
   "metadata": {},
   "outputs": [
    {
     "name": "stdout",
     "output_type": "stream",
     "text": [
      "<class 'pandas.core.frame.DataFrame'>\n",
      "RangeIndex: 39717 entries, 0 to 39716\n",
      "Columns: 111 entries, id to total_il_high_credit_limit\n",
      "dtypes: float64(74), int64(13), object(24)\n",
      "memory usage: 33.6+ MB\n"
     ]
    }
   ],
   "source": [
    "# Understanding the type of variables\n",
    "loan_df.info()"
   ]
  },
  {
   "cell_type": "code",
   "execution_count": 13,
   "id": "50bfab78-07eb-4117-9102-3b13dd17516d",
   "metadata": {},
   "outputs": [
    {
     "data": {
      "text/plain": [
       "(39717, 111)"
      ]
     },
     "execution_count": 13,
     "metadata": {},
     "output_type": "execute_result"
    }
   ],
   "source": [
    "# Checking the shape of the dataframe\n",
    "loan_df.shape"
   ]
  },
  {
   "cell_type": "markdown",
   "id": "1c77aead-b6a6-46d7-b1a3-1a3fad029f90",
   "metadata": {},
   "source": [
    "### Data Handling and Cleaning"
   ]
  },
  {
   "cell_type": "code",
   "execution_count": 14,
   "id": "6fe5f7b3-bbe1-4226-8ca8-7d84b55a0a7a",
   "metadata": {},
   "outputs": [
    {
     "data": {
      "text/plain": [
       "loan_status\n",
       "Fully Paid     32950\n",
       "Charged Off     5627\n",
       "Current         1140\n",
       "Name: count, dtype: int64"
      ]
     },
     "execution_count": 14,
     "metadata": {},
     "output_type": "execute_result"
    }
   ],
   "source": [
    "# Check total type of loan status available in the data set\n",
    "loan_df.loan_status.value_counts()"
   ]
  },
  {
   "cell_type": "code",
   "execution_count": 15,
   "id": "8477c2d0-f389-4255-be9b-79d6e9946bd5",
   "metadata": {},
   "outputs": [],
   "source": [
    "# Remove all the rows with Loan Status Current as we are not considering it\n",
    "# for risk analysis and save the result into a new data frame\n",
    "loan_df_interim = loan_df[(loan_df.loan_status != \"Current\")]"
   ]
  },
  {
   "cell_type": "code",
   "execution_count": 16,
   "id": "3dd19970-1ce6-46a2-95f9-c9b7d68ce9e9",
   "metadata": {},
   "outputs": [
    {
     "data": {
      "text/plain": [
       "(38577, 111)"
      ]
     },
     "execution_count": 16,
     "metadata": {},
     "output_type": "execute_result"
    }
   ],
   "source": [
    "# Checking the shape of the new dataframe\n",
    "loan_df_interim.shape"
   ]
  },
  {
   "cell_type": "code",
   "execution_count": 17,
   "id": "c321bd70-0635-4b8b-9be7-b4c7e97e5d2d",
   "metadata": {},
   "outputs": [
    {
     "name": "stdout",
     "output_type": "stream",
     "text": [
      "<class 'pandas.core.frame.DataFrame'>\n",
      "Index: 38577 entries, 0 to 39716\n",
      "Columns: 111 entries, id to total_il_high_credit_limit\n",
      "dtypes: float64(74), int64(13), object(24)\n",
      "memory usage: 33.0+ MB\n"
     ]
    }
   ],
   "source": [
    "# Checking the index of the dataframe as we have removed the rows\n",
    "loan_df_interim.info()"
   ]
  },
  {
   "cell_type": "code",
   "execution_count": 18,
   "id": "369894d2-6314-4d92-91d5-5156f6c95e38",
   "metadata": {},
   "outputs": [],
   "source": [
    "# Resetting the index to make it sqequential\n",
    "loan_df_interim.reset_index(inplace = True, drop = True)"
   ]
  },
  {
   "cell_type": "code",
   "execution_count": 19,
   "id": "60600383-5269-4dc2-8bb7-93e4b45fb3dc",
   "metadata": {},
   "outputs": [
    {
     "name": "stdout",
     "output_type": "stream",
     "text": [
      "<class 'pandas.core.frame.DataFrame'>\n",
      "RangeIndex: 38577 entries, 0 to 38576\n",
      "Columns: 111 entries, id to total_il_high_credit_limit\n",
      "dtypes: float64(74), int64(13), object(24)\n",
      "memory usage: 32.7+ MB\n"
     ]
    }
   ],
   "source": [
    "# Checking the index again after resetting it\n",
    "loan_df_interim.info()"
   ]
  },
  {
   "cell_type": "code",
   "execution_count": 14,
   "id": "a22fe482-8067-4887-b229-cf0e64e2144a",
   "metadata": {},
   "outputs": [
    {
     "data": {
      "text/plain": [
       "id                                    0\n",
       "member_id                             0\n",
       "loan_amnt                             0\n",
       "funded_amnt                           0\n",
       "funded_amnt_inv                       0\n",
       "term                                  0\n",
       "int_rate                              0\n",
       "installment                           0\n",
       "grade                                 0\n",
       "sub_grade                             0\n",
       "emp_title                          2386\n",
       "emp_length                         1033\n",
       "home_ownership                        0\n",
       "annual_inc                            0\n",
       "verification_status                   0\n",
       "issue_d                               0\n",
       "loan_status                           0\n",
       "pymnt_plan                            0\n",
       "url                                   0\n",
       "desc                              12529\n",
       "purpose                               0\n",
       "title                                11\n",
       "zip_code                              0\n",
       "addr_state                            0\n",
       "dti                                   0\n",
       "delinq_2yrs                           0\n",
       "earliest_cr_line                      0\n",
       "inq_last_6mths                        0\n",
       "mths_since_last_delinq            24905\n",
       "mths_since_last_record            35837\n",
       "open_acc                              0\n",
       "pub_rec                               0\n",
       "revol_bal                             0\n",
       "revol_util                           50\n",
       "total_acc                             0\n",
       "initial_list_status                   0\n",
       "out_prncp                             0\n",
       "out_prncp_inv                         0\n",
       "total_pymnt                           0\n",
       "total_pymnt_inv                       0\n",
       "total_rec_prncp                       0\n",
       "total_rec_int                         0\n",
       "total_rec_late_fee                    0\n",
       "recoveries                            0\n",
       "collection_recovery_fee               0\n",
       "last_pymnt_d                         71\n",
       "last_pymnt_amnt                       0\n",
       "next_pymnt_d                      38577\n",
       "last_credit_pull_d                    2\n",
       "collections_12_mths_ex_med           56\n",
       "mths_since_last_major_derog       38577\n",
       "policy_code                           0\n",
       "application_type                      0\n",
       "annual_inc_joint                  38577\n",
       "dti_joint                         38577\n",
       "verification_status_joint         38577\n",
       "acc_now_delinq                        0\n",
       "tot_coll_amt                      38577\n",
       "tot_cur_bal                       38577\n",
       "open_acc_6m                       38577\n",
       "open_il_6m                        38577\n",
       "open_il_12m                       38577\n",
       "open_il_24m                       38577\n",
       "mths_since_rcnt_il                38577\n",
       "total_bal_il                      38577\n",
       "il_util                           38577\n",
       "open_rv_12m                       38577\n",
       "open_rv_24m                       38577\n",
       "max_bal_bc                        38577\n",
       "all_util                          38577\n",
       "total_rev_hi_lim                  38577\n",
       "inq_fi                            38577\n",
       "total_cu_tl                       38577\n",
       "inq_last_12m                      38577\n",
       "acc_open_past_24mths              38577\n",
       "avg_cur_bal                       38577\n",
       "bc_open_to_buy                    38577\n",
       "bc_util                           38577\n",
       "chargeoff_within_12_mths             56\n",
       "delinq_amnt                           0\n",
       "mo_sin_old_il_acct                38577\n",
       "mo_sin_old_rev_tl_op              38577\n",
       "mo_sin_rcnt_rev_tl_op             38577\n",
       "mo_sin_rcnt_tl                    38577\n",
       "mort_acc                          38577\n",
       "mths_since_recent_bc              38577\n",
       "mths_since_recent_bc_dlq          38577\n",
       "mths_since_recent_inq             38577\n",
       "mths_since_recent_revol_delinq    38577\n",
       "num_accts_ever_120_pd             38577\n",
       "num_actv_bc_tl                    38577\n",
       "num_actv_rev_tl                   38577\n",
       "num_bc_sats                       38577\n",
       "num_bc_tl                         38577\n",
       "num_il_tl                         38577\n",
       "num_op_rev_tl                     38577\n",
       "num_rev_accts                     38577\n",
       "num_rev_tl_bal_gt_0               38577\n",
       "num_sats                          38577\n",
       "num_tl_120dpd_2m                  38577\n",
       "num_tl_30dpd                      38577\n",
       "num_tl_90g_dpd_24m                38577\n",
       "num_tl_op_past_12m                38577\n",
       "pct_tl_nvr_dlq                    38577\n",
       "percent_bc_gt_75                  38577\n",
       "pub_rec_bankruptcies                697\n",
       "tax_liens                            39\n",
       "tot_hi_cred_lim                   38577\n",
       "total_bal_ex_mort                 38577\n",
       "total_bc_limit                    38577\n",
       "total_il_high_credit_limit        38577\n",
       "dtype: int64"
      ]
     },
     "execution_count": 14,
     "metadata": {},
     "output_type": "execute_result"
    }
   ],
   "source": [
    "# Find the total null values in the data\n",
    "loan_df_interim.isnull().sum()"
   ]
  },
  {
   "cell_type": "code",
   "execution_count": 20,
   "id": "8a13cc01-10dd-45cd-b730-142d22ef1d5f",
   "metadata": {},
   "outputs": [],
   "source": [
    "# Find the percentage of null values for all the columns\n",
    "missing_value_perc = loan_df_interim.isnull().mean() * 100"
   ]
  },
  {
   "cell_type": "code",
   "execution_count": 21,
   "id": "400b953a-2075-4c18-acde-c3f0587f7eec",
   "metadata": {},
   "outputs": [
    {
     "data": {
      "text/plain": [
       "verification_status_joint         100.000000\n",
       "annual_inc_joint                  100.000000\n",
       "mo_sin_old_rev_tl_op              100.000000\n",
       "mo_sin_old_il_acct                100.000000\n",
       "bc_util                           100.000000\n",
       "bc_open_to_buy                    100.000000\n",
       "avg_cur_bal                       100.000000\n",
       "acc_open_past_24mths              100.000000\n",
       "inq_last_12m                      100.000000\n",
       "total_cu_tl                       100.000000\n",
       "inq_fi                            100.000000\n",
       "total_rev_hi_lim                  100.000000\n",
       "all_util                          100.000000\n",
       "max_bal_bc                        100.000000\n",
       "open_rv_24m                       100.000000\n",
       "open_rv_12m                       100.000000\n",
       "il_util                           100.000000\n",
       "total_bal_il                      100.000000\n",
       "mths_since_rcnt_il                100.000000\n",
       "open_il_24m                       100.000000\n",
       "open_il_12m                       100.000000\n",
       "open_il_6m                        100.000000\n",
       "open_acc_6m                       100.000000\n",
       "tot_cur_bal                       100.000000\n",
       "tot_coll_amt                      100.000000\n",
       "mo_sin_rcnt_rev_tl_op             100.000000\n",
       "mo_sin_rcnt_tl                    100.000000\n",
       "mort_acc                          100.000000\n",
       "num_rev_tl_bal_gt_0               100.000000\n",
       "total_bc_limit                    100.000000\n",
       "total_bal_ex_mort                 100.000000\n",
       "tot_hi_cred_lim                   100.000000\n",
       "percent_bc_gt_75                  100.000000\n",
       "pct_tl_nvr_dlq                    100.000000\n",
       "num_tl_op_past_12m                100.000000\n",
       "num_tl_90g_dpd_24m                100.000000\n",
       "num_tl_30dpd                      100.000000\n",
       "num_tl_120dpd_2m                  100.000000\n",
       "num_sats                          100.000000\n",
       "num_rev_accts                     100.000000\n",
       "mths_since_recent_bc              100.000000\n",
       "num_op_rev_tl                     100.000000\n",
       "num_il_tl                         100.000000\n",
       "num_bc_tl                         100.000000\n",
       "num_bc_sats                       100.000000\n",
       "num_actv_rev_tl                   100.000000\n",
       "num_actv_bc_tl                    100.000000\n",
       "num_accts_ever_120_pd             100.000000\n",
       "mths_since_recent_revol_delinq    100.000000\n",
       "mths_since_recent_inq             100.000000\n",
       "mths_since_recent_bc_dlq          100.000000\n",
       "dti_joint                         100.000000\n",
       "total_il_high_credit_limit        100.000000\n",
       "mths_since_last_major_derog       100.000000\n",
       "next_pymnt_d                      100.000000\n",
       "mths_since_last_record             92.897322\n",
       "mths_since_last_delinq             64.559193\n",
       "desc                               32.477901\n",
       "emp_title                           6.185033\n",
       "emp_length                          2.677761\n",
       "pub_rec_bankruptcies                1.806776\n",
       "last_pymnt_d                        0.184047\n",
       "collections_12_mths_ex_med          0.145164\n",
       "chargeoff_within_12_mths            0.145164\n",
       "revol_util                          0.129611\n",
       "tax_liens                           0.101097\n",
       "title                               0.028514\n",
       "last_credit_pull_d                  0.005184\n",
       "pymnt_plan                          0.000000\n",
       "url                                 0.000000\n",
       "loan_status                         0.000000\n",
       "purpose                             0.000000\n",
       "issue_d                             0.000000\n",
       "verification_status                 0.000000\n",
       "application_type                    0.000000\n",
       "annual_inc                          0.000000\n",
       "home_ownership                      0.000000\n",
       "zip_code                            0.000000\n",
       "grade                               0.000000\n",
       "installment                         0.000000\n",
       "int_rate                            0.000000\n",
       "term                                0.000000\n",
       "funded_amnt_inv                     0.000000\n",
       "funded_amnt                         0.000000\n",
       "loan_amnt                           0.000000\n",
       "sub_grade                           0.000000\n",
       "inq_last_6mths                      0.000000\n",
       "addr_state                          0.000000\n",
       "dti                                 0.000000\n",
       "member_id                           0.000000\n",
       "acc_now_delinq                      0.000000\n",
       "last_pymnt_amnt                     0.000000\n",
       "collection_recovery_fee             0.000000\n",
       "recoveries                          0.000000\n",
       "total_rec_late_fee                  0.000000\n",
       "total_rec_int                       0.000000\n",
       "total_rec_prncp                     0.000000\n",
       "total_pymnt_inv                     0.000000\n",
       "total_pymnt                         0.000000\n",
       "out_prncp_inv                       0.000000\n",
       "out_prncp                           0.000000\n",
       "initial_list_status                 0.000000\n",
       "total_acc                           0.000000\n",
       "revol_bal                           0.000000\n",
       "pub_rec                             0.000000\n",
       "open_acc                            0.000000\n",
       "delinq_amnt                         0.000000\n",
       "policy_code                         0.000000\n",
       "earliest_cr_line                    0.000000\n",
       "delinq_2yrs                         0.000000\n",
       "id                                  0.000000\n",
       "dtype: float64"
      ]
     },
     "execution_count": 21,
     "metadata": {},
     "output_type": "execute_result"
    }
   ],
   "source": [
    "# Printing missing_value_perc in Descending order\n",
    "missing_value_perc.sort_values(ascending = False)"
   ]
  },
  {
   "cell_type": "code",
   "execution_count": 22,
   "id": "3d3aa5e4-ea24-4b24-b70b-2ac613078257",
   "metadata": {},
   "outputs": [],
   "source": [
    "# Drop all the columns which has missing value percentage >= 70\n",
    "# and save the value in the new dataframe\n",
    "loan_df_clean = loan_df_interim.loc[:, missing_value_perc < 70]"
   ]
  },
  {
   "cell_type": "code",
   "execution_count": 23,
   "id": "d07fb8f0-7ded-4265-ab84-de711bbf4587",
   "metadata": {},
   "outputs": [
    {
     "name": "stdout",
     "output_type": "stream",
     "text": [
      "<class 'pandas.core.frame.DataFrame'>\n",
      "RangeIndex: 38577 entries, 0 to 38576\n",
      "Data columns (total 55 columns):\n",
      " #   Column                      Non-Null Count  Dtype  \n",
      "---  ------                      --------------  -----  \n",
      " 0   id                          38577 non-null  int64  \n",
      " 1   member_id                   38577 non-null  int64  \n",
      " 2   loan_amnt                   38577 non-null  int64  \n",
      " 3   funded_amnt                 38577 non-null  int64  \n",
      " 4   funded_amnt_inv             38577 non-null  float64\n",
      " 5   term                        38577 non-null  object \n",
      " 6   int_rate                    38577 non-null  object \n",
      " 7   installment                 38577 non-null  float64\n",
      " 8   grade                       38577 non-null  object \n",
      " 9   sub_grade                   38577 non-null  object \n",
      " 10  emp_title                   36191 non-null  object \n",
      " 11  emp_length                  37544 non-null  object \n",
      " 12  home_ownership              38577 non-null  object \n",
      " 13  annual_inc                  38577 non-null  float64\n",
      " 14  verification_status         38577 non-null  object \n",
      " 15  issue_d                     38577 non-null  object \n",
      " 16  loan_status                 38577 non-null  object \n",
      " 17  pymnt_plan                  38577 non-null  object \n",
      " 18  url                         38577 non-null  object \n",
      " 19  desc                        26048 non-null  object \n",
      " 20  purpose                     38577 non-null  object \n",
      " 21  title                       38566 non-null  object \n",
      " 22  zip_code                    38577 non-null  object \n",
      " 23  addr_state                  38577 non-null  object \n",
      " 24  dti                         38577 non-null  float64\n",
      " 25  delinq_2yrs                 38577 non-null  int64  \n",
      " 26  earliest_cr_line            38577 non-null  object \n",
      " 27  inq_last_6mths              38577 non-null  int64  \n",
      " 28  mths_since_last_delinq      13672 non-null  float64\n",
      " 29  open_acc                    38577 non-null  int64  \n",
      " 30  pub_rec                     38577 non-null  int64  \n",
      " 31  revol_bal                   38577 non-null  int64  \n",
      " 32  revol_util                  38527 non-null  object \n",
      " 33  total_acc                   38577 non-null  int64  \n",
      " 34  initial_list_status         38577 non-null  object \n",
      " 35  out_prncp                   38577 non-null  float64\n",
      " 36  out_prncp_inv               38577 non-null  float64\n",
      " 37  total_pymnt                 38577 non-null  float64\n",
      " 38  total_pymnt_inv             38577 non-null  float64\n",
      " 39  total_rec_prncp             38577 non-null  float64\n",
      " 40  total_rec_int               38577 non-null  float64\n",
      " 41  total_rec_late_fee          38577 non-null  float64\n",
      " 42  recoveries                  38577 non-null  float64\n",
      " 43  collection_recovery_fee     38577 non-null  float64\n",
      " 44  last_pymnt_d                38506 non-null  object \n",
      " 45  last_pymnt_amnt             38577 non-null  float64\n",
      " 46  last_credit_pull_d          38575 non-null  object \n",
      " 47  collections_12_mths_ex_med  38521 non-null  float64\n",
      " 48  policy_code                 38577 non-null  int64  \n",
      " 49  application_type            38577 non-null  object \n",
      " 50  acc_now_delinq              38577 non-null  int64  \n",
      " 51  chargeoff_within_12_mths    38521 non-null  float64\n",
      " 52  delinq_amnt                 38577 non-null  int64  \n",
      " 53  pub_rec_bankruptcies        37880 non-null  float64\n",
      " 54  tax_liens                   38538 non-null  float64\n",
      "dtypes: float64(19), int64(13), object(23)\n",
      "memory usage: 16.2+ MB\n"
     ]
    }
   ],
   "source": [
    "# Understanding the variables after removing the columns\n",
    "loan_df_clean.info()"
   ]
  },
  {
   "cell_type": "code",
   "execution_count": 24,
   "id": "6a707e3f-5478-4be1-948b-7a64d024dafc",
   "metadata": {},
   "outputs": [],
   "source": [
    "# Again finding the null value percentage on the new dataframe\n",
    "result_clean_null_perc = loan_df_clean.isnull().mean() * 100"
   ]
  },
  {
   "cell_type": "code",
   "execution_count": 25,
   "id": "1c64fa4f-1e0b-4c38-8abe-56fbfd3caca2",
   "metadata": {},
   "outputs": [
    {
     "data": {
      "text/plain": [
       "id                             0.000000\n",
       "earliest_cr_line               0.000000\n",
       "open_acc                       0.000000\n",
       "pub_rec                        0.000000\n",
       "revol_bal                      0.000000\n",
       "total_acc                      0.000000\n",
       "initial_list_status            0.000000\n",
       "out_prncp                      0.000000\n",
       "out_prncp_inv                  0.000000\n",
       "total_pymnt                    0.000000\n",
       "delinq_2yrs                    0.000000\n",
       "total_pymnt_inv                0.000000\n",
       "total_rec_int                  0.000000\n",
       "total_rec_late_fee             0.000000\n",
       "recoveries                     0.000000\n",
       "collection_recovery_fee        0.000000\n",
       "last_pymnt_amnt                0.000000\n",
       "policy_code                    0.000000\n",
       "application_type               0.000000\n",
       "acc_now_delinq                 0.000000\n",
       "delinq_amnt                    0.000000\n",
       "total_rec_prncp                0.000000\n",
       "dti                            0.000000\n",
       "inq_last_6mths                 0.000000\n",
       "zip_code                       0.000000\n",
       "installment                    0.000000\n",
       "grade                          0.000000\n",
       "sub_grade                      0.000000\n",
       "addr_state                     0.000000\n",
       "home_ownership                 0.000000\n",
       "annual_inc                     0.000000\n",
       "verification_status            0.000000\n",
       "int_rate                       0.000000\n",
       "issue_d                        0.000000\n",
       "funded_amnt_inv                0.000000\n",
       "pymnt_plan                     0.000000\n",
       "url                            0.000000\n",
       "funded_amnt                    0.000000\n",
       "loan_amnt                      0.000000\n",
       "member_id                      0.000000\n",
       "purpose                        0.000000\n",
       "loan_status                    0.000000\n",
       "term                           0.000000\n",
       "last_credit_pull_d             0.005184\n",
       "title                          0.028514\n",
       "tax_liens                      0.101097\n",
       "revol_util                     0.129611\n",
       "collections_12_mths_ex_med     0.145164\n",
       "chargeoff_within_12_mths       0.145164\n",
       "last_pymnt_d                   0.184047\n",
       "pub_rec_bankruptcies           1.806776\n",
       "emp_length                     2.677761\n",
       "emp_title                      6.185033\n",
       "desc                          32.477901\n",
       "mths_since_last_delinq        64.559193\n",
       "dtype: float64"
      ]
     },
     "execution_count": 25,
     "metadata": {},
     "output_type": "execute_result"
    }
   ],
   "source": [
    "# Printing result_clean_null_perc in Ascending order\n",
    "result_clean_null_perc.sort_values(ascending = True)"
   ]
  },
  {
   "cell_type": "code",
   "execution_count": 26,
   "id": "cffd7796-dd6b-4f5c-aaa1-cc5c998e28ee",
   "metadata": {},
   "outputs": [
    {
     "data": {
      "text/plain": [
       "0"
      ]
     },
     "execution_count": 26,
     "metadata": {},
     "output_type": "execute_result"
    }
   ],
   "source": [
    "# To find any duplicate values in the data\n",
    "loan_df_clean.duplicated().sum()"
   ]
  },
  {
   "cell_type": "markdown",
   "id": "a87ad2ce-4511-44ec-bec1-c742a762e828",
   "metadata": {},
   "source": [
    "**Understanding the Columns**\n",
    "\n",
    "Finding and Dropping the columns which does not have variation in the data and does not impact our analysis"
   ]
  },
  {
   "cell_type": "code",
   "execution_count": 27,
   "id": "c0486dcb-041e-43d7-bec7-b79628b2a6a3",
   "metadata": {},
   "outputs": [
    {
     "data": {
      "text/plain": [
       "policy_code\n",
       "1    38577\n",
       "Name: count, dtype: int64"
      ]
     },
     "execution_count": 27,
     "metadata": {},
     "output_type": "execute_result"
    }
   ],
   "source": [
    "# Find the type of values in policy_code\n",
    "loan_df_clean.policy_code.value_counts()"
   ]
  },
  {
   "cell_type": "code",
   "execution_count": 28,
   "id": "729561fe-31a6-419f-92e4-b4a76a046476",
   "metadata": {},
   "outputs": [],
   "source": [
    "# Dropping policy_code as it's not a driving variable in the analytics\n",
    "loan_df_clean.drop(\"policy_code\", axis = 1, inplace = True)"
   ]
  },
  {
   "cell_type": "code",
   "execution_count": 29,
   "id": "fba34ed0-7933-4c02-ba8e-0395ba2ec135",
   "metadata": {},
   "outputs": [
    {
     "data": {
      "text/plain": [
       "0        INDIVIDUAL\n",
       "1        INDIVIDUAL\n",
       "2        INDIVIDUAL\n",
       "3        INDIVIDUAL\n",
       "4        INDIVIDUAL\n",
       "            ...    \n",
       "38572    INDIVIDUAL\n",
       "38573    INDIVIDUAL\n",
       "38574    INDIVIDUAL\n",
       "38575    INDIVIDUAL\n",
       "38576    INDIVIDUAL\n",
       "Name: application_type, Length: 38577, dtype: object"
      ]
     },
     "execution_count": 29,
     "metadata": {},
     "output_type": "execute_result"
    }
   ],
   "source": [
    "# Find the type of values in application_type\n",
    "loan_df_clean.application_type"
   ]
  },
  {
   "cell_type": "code",
   "execution_count": 30,
   "id": "c6381902-556e-4c69-b8e9-08a048dbb294",
   "metadata": {},
   "outputs": [],
   "source": [
    "# Dropping the application_type column as all the data contains the same value\n",
    "# INDIVIDUAL\n",
    "loan_df_clean.drop(\"application_type\", axis = 1, inplace = True)"
   ]
  },
  {
   "cell_type": "code",
   "execution_count": 31,
   "id": "9d4530ae-f804-4aee-9625-ba575f9123fb",
   "metadata": {},
   "outputs": [
    {
     "data": {
      "text/plain": [
       "out_prncp_inv\n",
       "0.0    38577\n",
       "Name: count, dtype: int64"
      ]
     },
     "execution_count": 31,
     "metadata": {},
     "output_type": "execute_result"
    }
   ],
   "source": [
    "# Find the type of values in out_prncp_inv\n",
    "loan_df_clean.out_prncp_inv.value_counts()"
   ]
  },
  {
   "cell_type": "code",
   "execution_count": 32,
   "id": "558726a5-78f8-473f-bdf8-79097c03b1c9",
   "metadata": {},
   "outputs": [],
   "source": [
    "# Dropping the out_prncp_inv column as all the data contains the same value i.e. 0\n",
    "loan_df_clean.drop(\"out_prncp_inv\", axis = 1, inplace = True)"
   ]
  },
  {
   "cell_type": "code",
   "execution_count": 33,
   "id": "b73aeee5-2779-49c9-a9fb-096e65f3410a",
   "metadata": {},
   "outputs": [
    {
     "data": {
      "text/plain": [
       "out_prncp\n",
       "0.0    38577\n",
       "Name: count, dtype: int64"
      ]
     },
     "execution_count": 33,
     "metadata": {},
     "output_type": "execute_result"
    }
   ],
   "source": [
    "# Find the type of values in out_prncp\n",
    "loan_df_clean.out_prncp.value_counts()"
   ]
  },
  {
   "cell_type": "code",
   "execution_count": 34,
   "id": "87c57001-85f5-41bb-897c-cf44049096a6",
   "metadata": {},
   "outputs": [],
   "source": [
    "# Dropping the out_prncp column as all the data contains the same value i.e. 0\n",
    "# as there is no variation\n",
    "loan_df_clean.drop(\"out_prncp\", axis = 1, inplace = True)"
   ]
  },
  {
   "cell_type": "code",
   "execution_count": 35,
   "id": "b92c717a-c405-45bc-86ce-f4d28a4b1f1b",
   "metadata": {},
   "outputs": [
    {
     "data": {
      "text/plain": [
       "tax_liens\n",
       "0.0    38538\n",
       "Name: count, dtype: int64"
      ]
     },
     "execution_count": 35,
     "metadata": {},
     "output_type": "execute_result"
    }
   ],
   "source": [
    "# Find the type of values in tax_liens\n",
    "loan_df_clean.tax_liens.value_counts()"
   ]
  },
  {
   "cell_type": "code",
   "execution_count": 36,
   "id": "3860b4da-f548-4b46-b11c-a1503f785a32",
   "metadata": {},
   "outputs": [],
   "source": [
    "# Dropping the tax_liens column as most of the data contains the same value i.e. 0\n",
    "# as there is no variation\n",
    "loan_df_clean.drop(\"tax_liens\", axis = 1, inplace = True)"
   ]
  },
  {
   "cell_type": "code",
   "execution_count": 37,
   "id": "d0cb5a02-df57-4370-a9e8-89ff1571915c",
   "metadata": {},
   "outputs": [
    {
     "data": {
      "text/plain": [
       "chargeoff_within_12_mths\n",
       "0.0    38521\n",
       "Name: count, dtype: int64"
      ]
     },
     "execution_count": 37,
     "metadata": {},
     "output_type": "execute_result"
    }
   ],
   "source": [
    "# Find the type of values in chargeoff_within_12_mths\n",
    "loan_df_clean.chargeoff_within_12_mths.value_counts()"
   ]
  },
  {
   "cell_type": "code",
   "execution_count": 38,
   "id": "197e294c-d047-454a-80e4-bf42f762bea5",
   "metadata": {},
   "outputs": [],
   "source": [
    "# Dropping the chargeoff_within_12_mths column as most of the data contains the same value i.e. 0\n",
    "# as there is no variation\n",
    "loan_df_clean.drop(\"chargeoff_within_12_mths\", axis = 1, inplace = True)"
   ]
  },
  {
   "cell_type": "code",
   "execution_count": 39,
   "id": "0b95417f-12e6-42b5-8256-a41e84fe73b9",
   "metadata": {},
   "outputs": [
    {
     "data": {
      "text/plain": [
       "delinq_amnt\n",
       "0    38577\n",
       "Name: count, dtype: int64"
      ]
     },
     "execution_count": 39,
     "metadata": {},
     "output_type": "execute_result"
    }
   ],
   "source": [
    "# Find the type of values in delinq_amnt\n",
    "loan_df_clean.delinq_amnt.value_counts()"
   ]
  },
  {
   "cell_type": "code",
   "execution_count": 40,
   "id": "c5d1ce9c-56f4-4ed3-8344-237655d154c0",
   "metadata": {},
   "outputs": [],
   "source": [
    "# Dropping the delinq_amnt column as all the data contains the same value i.e. 0\n",
    "# as there is no variation\n",
    "loan_df_clean.drop(\"delinq_amnt\", axis = 1, inplace = True)"
   ]
  },
  {
   "cell_type": "code",
   "execution_count": 41,
   "id": "b52855c9-54af-4ede-a73b-a60dfbcfde8c",
   "metadata": {},
   "outputs": [
    {
     "data": {
      "text/plain": [
       "collections_12_mths_ex_med\n",
       "0.0    38521\n",
       "Name: count, dtype: int64"
      ]
     },
     "execution_count": 41,
     "metadata": {},
     "output_type": "execute_result"
    }
   ],
   "source": [
    "# Find the type of values in collections_12_mths_ex_med\n",
    "loan_df_clean.collections_12_mths_ex_med.value_counts()"
   ]
  },
  {
   "cell_type": "code",
   "execution_count": 42,
   "id": "fa8facea-3e46-4120-b9fb-9395fe55bc90",
   "metadata": {},
   "outputs": [],
   "source": [
    "# Dropping the collections_12_mths_ex_med column as most of the data contains the same value i.e. 0\n",
    "# as there is no variation\n",
    "loan_df_clean.drop(\"collections_12_mths_ex_med\", axis = 1, inplace = True)"
   ]
  },
  {
   "cell_type": "code",
   "execution_count": 43,
   "id": "626cadce-3a0c-45b6-9921-789c2313b2a0",
   "metadata": {},
   "outputs": [],
   "source": [
    "# Dropping the url column as it does not impact on risk analysis\n",
    "loan_df_clean.drop(\"url\", axis = 1, inplace = True)"
   ]
  },
  {
   "cell_type": "code",
   "execution_count": 44,
   "id": "1087f09a-5467-4054-a537-e78d794fdbeb",
   "metadata": {},
   "outputs": [],
   "source": [
    "# Dropping the zip_code column as we are not considering it for risk analysis\n",
    "loan_df_clean.drop(\"zip_code\", axis = 1, inplace = True)"
   ]
  },
  {
   "cell_type": "code",
   "execution_count": 45,
   "id": "7f2a880f-a52e-447a-9c5c-e53d64e04279",
   "metadata": {},
   "outputs": [
    {
     "data": {
      "text/plain": [
       "initial_list_status\n",
       "f    38577\n",
       "Name: count, dtype: int64"
      ]
     },
     "execution_count": 45,
     "metadata": {},
     "output_type": "execute_result"
    }
   ],
   "source": [
    "# Find the type of values in initial_list_status\n",
    "loan_df_clean.initial_list_status.value_counts()"
   ]
  },
  {
   "cell_type": "code",
   "execution_count": 46,
   "id": "8c651ff6-f750-4efb-be29-9b43a70eea14",
   "metadata": {},
   "outputs": [],
   "source": [
    "#Dropping the initial_list_status column as all the data contains the same value i.e. f\n",
    "#as there is no variation\n",
    "loan_df_clean.drop(\"initial_list_status\", axis = 1, inplace = True)"
   ]
  },
  {
   "cell_type": "code",
   "execution_count": 47,
   "id": "69caf668-d602-4a32-b1c1-ebe766f625b8",
   "metadata": {},
   "outputs": [
    {
     "data": {
      "text/plain": [
       "acc_now_delinq\n",
       "0    38577\n",
       "Name: count, dtype: int64"
      ]
     },
     "execution_count": 47,
     "metadata": {},
     "output_type": "execute_result"
    }
   ],
   "source": [
    "# Find the type of values in acc_now_delinq\n",
    "loan_df_clean.acc_now_delinq.value_counts()"
   ]
  },
  {
   "cell_type": "code",
   "execution_count": 48,
   "id": "c35bfd47-f8b2-4b88-9c44-0e6118b5c4ee",
   "metadata": {},
   "outputs": [],
   "source": [
    "#Dropping the acc_now_delinq column as all the data contains the same value i.e. 0\n",
    "#as there is no variation\n",
    "loan_df_clean.drop(\"acc_now_delinq\", axis = 1, inplace = True)"
   ]
  },
  {
   "cell_type": "code",
   "execution_count": 49,
   "id": "76288945-009d-4b82-aa9a-ceabf6d0577e",
   "metadata": {},
   "outputs": [],
   "source": [
    "# Dropping the addr_state column as we are not considering it for risk analysis\n",
    "loan_df_clean.drop(\"addr_state\", axis = 1, inplace = True)"
   ]
  },
  {
   "cell_type": "code",
   "execution_count": 50,
   "id": "6952eb53-9e94-48a2-bad4-67be43b8bb4c",
   "metadata": {},
   "outputs": [],
   "source": [
    "# Dropping the funded_amnt_inv column as we are not considering it for risk analysis\n",
    "loan_df_clean.drop(\"funded_amnt_inv\", axis = 1, inplace = True)"
   ]
  },
  {
   "cell_type": "code",
   "execution_count": 51,
   "id": "481e4f27-944b-44d2-bf2b-75853eee5300",
   "metadata": {},
   "outputs": [],
   "source": [
    "# Dropping the desc column as we are not considering it for risk analysis\n",
    "loan_df_clean.drop(\"desc\", axis = 1, inplace = True)"
   ]
  },
  {
   "cell_type": "code",
   "execution_count": 52,
   "id": "626fe4d4-e8ba-4fd7-9ce4-cfe2b91f4362",
   "metadata": {},
   "outputs": [
    {
     "name": "stdout",
     "output_type": "stream",
     "text": [
      "<class 'pandas.core.frame.DataFrame'>\n",
      "RangeIndex: 38577 entries, 0 to 38576\n",
      "Data columns (total 40 columns):\n",
      " #   Column                   Non-Null Count  Dtype  \n",
      "---  ------                   --------------  -----  \n",
      " 0   id                       38577 non-null  int64  \n",
      " 1   member_id                38577 non-null  int64  \n",
      " 2   loan_amnt                38577 non-null  int64  \n",
      " 3   funded_amnt              38577 non-null  int64  \n",
      " 4   term                     38577 non-null  object \n",
      " 5   int_rate                 38577 non-null  object \n",
      " 6   installment              38577 non-null  float64\n",
      " 7   grade                    38577 non-null  object \n",
      " 8   sub_grade                38577 non-null  object \n",
      " 9   emp_title                36191 non-null  object \n",
      " 10  emp_length               37544 non-null  object \n",
      " 11  home_ownership           38577 non-null  object \n",
      " 12  annual_inc               38577 non-null  float64\n",
      " 13  verification_status      38577 non-null  object \n",
      " 14  issue_d                  38577 non-null  object \n",
      " 15  loan_status              38577 non-null  object \n",
      " 16  pymnt_plan               38577 non-null  object \n",
      " 17  purpose                  38577 non-null  object \n",
      " 18  title                    38566 non-null  object \n",
      " 19  dti                      38577 non-null  float64\n",
      " 20  delinq_2yrs              38577 non-null  int64  \n",
      " 21  earliest_cr_line         38577 non-null  object \n",
      " 22  inq_last_6mths           38577 non-null  int64  \n",
      " 23  mths_since_last_delinq   13672 non-null  float64\n",
      " 24  open_acc                 38577 non-null  int64  \n",
      " 25  pub_rec                  38577 non-null  int64  \n",
      " 26  revol_bal                38577 non-null  int64  \n",
      " 27  revol_util               38527 non-null  object \n",
      " 28  total_acc                38577 non-null  int64  \n",
      " 29  total_pymnt              38577 non-null  float64\n",
      " 30  total_pymnt_inv          38577 non-null  float64\n",
      " 31  total_rec_prncp          38577 non-null  float64\n",
      " 32  total_rec_int            38577 non-null  float64\n",
      " 33  total_rec_late_fee       38577 non-null  float64\n",
      " 34  recoveries               38577 non-null  float64\n",
      " 35  collection_recovery_fee  38577 non-null  float64\n",
      " 36  last_pymnt_d             38506 non-null  object \n",
      " 37  last_pymnt_amnt          38577 non-null  float64\n",
      " 38  last_credit_pull_d       38575 non-null  object \n",
      " 39  pub_rec_bankruptcies     37880 non-null  float64\n",
      "dtypes: float64(13), int64(10), object(17)\n",
      "memory usage: 11.8+ MB\n"
     ]
    }
   ],
   "source": [
    "# Checing the dataframe info after dropping unwanted columns\n",
    "loan_df_clean.info()"
   ]
  },
  {
   "cell_type": "markdown",
   "id": "2da6c5a6-1bb0-48c4-895c-2bace96fec1a",
   "metadata": {},
   "source": [
    "### Data Imputation and Manipulation"
   ]
  },
  {
   "cell_type": "markdown",
   "id": "a01e81d3-77f8-47ed-abcd-3ef0db327934",
   "metadata": {},
   "source": [
    "Imputing the values in the columns where we have missing values and converting the datatype of the columns as required."
   ]
  },
  {
   "cell_type": "code",
   "execution_count": 53,
   "id": "8748a5cf-604d-447f-9433-12a23c626a0d",
   "metadata": {},
   "outputs": [
    {
     "data": {
      "text/plain": [
       "emp_title\n",
       "US Army                                     131\n",
       "Bank of America                             107\n",
       "IBM                                          65\n",
       "AT&T                                         57\n",
       "Kaiser Permanente                            56\n",
       "                                           ... \n",
       "amneal pharmaceuticals                        1\n",
       "Net Equity Financial                          1\n",
       "Kernersville Fire Department                  1\n",
       "The Keith Corp. (empl by county, now Kei      1\n",
       "Evergreen Center                              1\n",
       "Name: count, Length: 28027, dtype: int64"
      ]
     },
     "execution_count": 53,
     "metadata": {},
     "output_type": "execute_result"
    }
   ],
   "source": [
    "# Find the type of values in emp_title\n",
    "loan_df_clean.emp_title.value_counts()"
   ]
  },
  {
   "cell_type": "code",
   "execution_count": 54,
   "id": "551cf233-1970-4034-a286-697ed619e97c",
   "metadata": {},
   "outputs": [
    {
     "data": {
      "text/plain": [
       "0    US Army\n",
       "Name: emp_title, dtype: object"
      ]
     },
     "execution_count": 54,
     "metadata": {},
     "output_type": "execute_result"
    }
   ],
   "source": [
    "# Find the most used value in emp_title\n",
    "loan_df_clean.emp_title.mode()"
   ]
  },
  {
   "cell_type": "code",
   "execution_count": 55,
   "id": "4dda22e9-9c7f-4253-974b-ddbe3be559e9",
   "metadata": {},
   "outputs": [],
   "source": [
    "# impute emp_title having null values with the most used title name\n",
    "loan_df_clean.emp_title.fillna(loan_df_clean.emp_title.mode()[0], inplace = True)"
   ]
  },
  {
   "cell_type": "code",
   "execution_count": 56,
   "id": "55ccb896-8669-4cc4-8f64-b4783a6b09a9",
   "metadata": {},
   "outputs": [
    {
     "data": {
      "text/plain": [
       "0    Debt Consolidation\n",
       "Name: title, dtype: object"
      ]
     },
     "execution_count": 56,
     "metadata": {},
     "output_type": "execute_result"
    }
   ],
   "source": [
    "# Find the most used value in title\n",
    "loan_df_clean.title.mode()"
   ]
  },
  {
   "cell_type": "code",
   "execution_count": 57,
   "id": "0bdee3af-e93d-452e-b36f-28e5ecc031c2",
   "metadata": {},
   "outputs": [],
   "source": [
    "# Impute title having null values with the most used title name\n",
    "loan_df_clean.title.fillna(loan_df_clean.title.mode()[0], inplace = True)"
   ]
  },
  {
   "cell_type": "code",
   "execution_count": 58,
   "id": "dbbcac22-dcb8-4a46-bd66-29552c3ff36c",
   "metadata": {},
   "outputs": [
    {
     "data": {
      "text/plain": [
       "0    0%\n",
       "Name: revol_util, dtype: object"
      ]
     },
     "execution_count": 58,
     "metadata": {},
     "output_type": "execute_result"
    }
   ],
   "source": [
    "# Find the most used value in revol_util\n",
    "loan_df_clean.revol_util.mode()"
   ]
  },
  {
   "cell_type": "code",
   "execution_count": 59,
   "id": "56761fee-67d7-42aa-a9c5-0481757adaab",
   "metadata": {},
   "outputs": [],
   "source": [
    "# Impute revol_util having null values with the most used revol_util value \n",
    "# before converting it to a float value as it is in percentage\n",
    "loan_df_clean.revol_util.fillna(loan_df_clean.revol_util.mode()[0], inplace = True)"
   ]
  },
  {
   "cell_type": "code",
   "execution_count": 60,
   "id": "19c15467-066a-4155-ad6e-f3c0866c7e86",
   "metadata": {},
   "outputs": [
    {
     "data": {
      "text/plain": [
       "0"
      ]
     },
     "execution_count": 60,
     "metadata": {},
     "output_type": "execute_result"
    }
   ],
   "source": [
    "# Find the total null values in the revol_util column\n",
    "loan_df_clean.revol_util.isnull().sum()"
   ]
  },
  {
   "cell_type": "code",
   "execution_count": 61,
   "id": "fbd41544-793b-41e5-a365-57ce2dd7362a",
   "metadata": {},
   "outputs": [],
   "source": [
    "# Remove the \"%\" symbol from the revol_util column values\n",
    "loan_df_clean.revol_util = loan_df_clean.revol_util.apply(lambda x : x.replace(\"%\", \"\"))"
   ]
  },
  {
   "cell_type": "code",
   "execution_count": 62,
   "id": "ef10424b-42af-4a1d-93a9-7e3c44f75021",
   "metadata": {},
   "outputs": [],
   "source": [
    "# Converting the value to float as it is a percentage value\n",
    "loan_df_clean.revol_util = loan_df_clean.revol_util.astype(\"float64\")"
   ]
  },
  {
   "cell_type": "code",
   "execution_count": 63,
   "id": "c51a86c0-1e50-4fe5-a86e-f03ff764d097",
   "metadata": {},
   "outputs": [
    {
     "name": "stdout",
     "output_type": "stream",
     "text": [
      "<class 'pandas.core.series.Series'>\n",
      "RangeIndex: 38577 entries, 0 to 38576\n",
      "Series name: revol_util\n",
      "Non-Null Count  Dtype  \n",
      "--------------  -----  \n",
      "38577 non-null  float64\n",
      "dtypes: float64(1)\n",
      "memory usage: 301.5 KB\n"
     ]
    }
   ],
   "source": [
    "# Checking the revol_util datatype after conversion\n",
    "loan_df_clean.revol_util.info()"
   ]
  },
  {
   "cell_type": "code",
   "execution_count": 64,
   "id": "0601ebd5-24ee-44ab-b6c2-f5b58b84ff47",
   "metadata": {},
   "outputs": [
    {
     "data": {
      "text/plain": [
       "last_pymnt_d\n",
       "Mar-13    1026\n",
       "Dec-14     945\n",
       "May-13     907\n",
       "Feb-13     869\n",
       "Apr-13     851\n",
       "Mar-12     844\n",
       "Aug-14     832\n",
       "Jan-14     832\n",
       "Aug-12     832\n",
       "Oct-12     826\n",
       "Mar-14     824\n",
       "Jul-14     820\n",
       "Oct-14     808\n",
       "Feb-14     792\n",
       "Jan-13     784\n",
       "Dec-13     780\n",
       "Jun-14     778\n",
       "Jul-13     776\n",
       "Sep-12     761\n",
       "Jul-12     741\n",
       "Nov-12     740\n",
       "May-12     736\n",
       "Feb-12     735\n",
       "Apr-12     734\n",
       "Aug-13     727\n",
       "Dec-12     707\n",
       "Jun-12     702\n",
       "Sep-14     693\n",
       "Oct-13     692\n",
       "Jun-13     691\n",
       "Sep-13     684\n",
       "May-14     682\n",
       "Apr-14     674\n",
       "Nov-13     671\n",
       "Nov-14     589\n",
       "Jan-12     546\n",
       "Dec-11     544\n",
       "Mar-11     488\n",
       "Nov-11     454\n",
       "Oct-11     453\n",
       "Sep-11     450\n",
       "Aug-11     428\n",
       "Apr-11     420\n",
       "Jul-11     394\n",
       "May-11     386\n",
       "Jun-11     376\n",
       "Feb-11     337\n",
       "Jan-15     332\n",
       "Jan-11     266\n",
       "Dec-10     253\n",
       "Jul-15     250\n",
       "Nov-15     227\n",
       "Jun-15     220\n",
       "Oct-10     216\n",
       "Mar-16     216\n",
       "Aug-15     210\n",
       "Sep-15     202\n",
       "Nov-10     195\n",
       "Jul-10     188\n",
       "Oct-15     186\n",
       "Jan-16     183\n",
       "Mar-15     182\n",
       "Dec-15     176\n",
       "Sep-10     176\n",
       "Apr-16     173\n",
       "Feb-16     169\n",
       "May-16     163\n",
       "Feb-15     163\n",
       "Aug-10     151\n",
       "May-15     147\n",
       "Mar-10     138\n",
       "Apr-15     136\n",
       "May-10     116\n",
       "Jun-10     116\n",
       "Apr-10     114\n",
       "Feb-10     112\n",
       "Dec-09      93\n",
       "Jan-10      73\n",
       "Oct-09      62\n",
       "Nov-09      59\n",
       "Aug-09      49\n",
       "Jul-09      43\n",
       "Apr-09      43\n",
       "May-09      41\n",
       "Jun-09      40\n",
       "Mar-09      38\n",
       "Sep-09      37\n",
       "Feb-09      33\n",
       "Oct-08      28\n",
       "Jan-09      21\n",
       "May-08      14\n",
       "Jul-08      14\n",
       "Dec-08      14\n",
       "Aug-08      13\n",
       "Sep-08      12\n",
       "Apr-08      12\n",
       "Jun-08      10\n",
       "Nov-08      10\n",
       "Mar-08       5\n",
       "Jan-08       4\n",
       "Feb-08       1\n",
       "Name: count, dtype: int64"
      ]
     },
     "execution_count": 64,
     "metadata": {},
     "output_type": "execute_result"
    }
   ],
   "source": [
    "# Find the type of values in last_pymnt_d\n",
    "loan_df_clean.last_pymnt_d.value_counts()"
   ]
  },
  {
   "cell_type": "code",
   "execution_count": 65,
   "id": "fab45762-d2fe-42a4-81f4-52b8beeb6cf0",
   "metadata": {},
   "outputs": [],
   "source": [
    "# Converting last_pymnt_d datatype from object to datetime to make it useful for analysis\n",
    "loan_df_clean.last_pymnt_d = pd.to_datetime(loan_df_clean.last_pymnt_d, format='%b-%y')"
   ]
  },
  {
   "cell_type": "code",
   "execution_count": 66,
   "id": "881e39d5-89ba-4640-8edb-81bbe288c2a8",
   "metadata": {},
   "outputs": [
    {
     "name": "stdout",
     "output_type": "stream",
     "text": [
      "<class 'pandas.core.series.Series'>\n",
      "RangeIndex: 38577 entries, 0 to 38576\n",
      "Series name: last_pymnt_d\n",
      "Non-Null Count  Dtype         \n",
      "--------------  -----         \n",
      "38506 non-null  datetime64[ns]\n",
      "dtypes: datetime64[ns](1)\n",
      "memory usage: 301.5 KB\n"
     ]
    }
   ],
   "source": [
    "# Checking the last_pymnt_d datatype after conversion\n",
    "loan_df_clean.last_pymnt_d.info()"
   ]
  },
  {
   "cell_type": "code",
   "execution_count": 67,
   "id": "fa216730-20e7-442e-8912-290ec3d88148",
   "metadata": {},
   "outputs": [
    {
     "data": {
      "text/plain": [
       "71"
      ]
     },
     "execution_count": 67,
     "metadata": {},
     "output_type": "execute_result"
    }
   ],
   "source": [
    "# Find the total null values in the last_pymnt_d column\n",
    "loan_df_clean.last_pymnt_d.isnull().sum()"
   ]
  },
  {
   "cell_type": "code",
   "execution_count": 68,
   "id": "64ec236b-8b87-480e-bd44-3d4dcbc555c3",
   "metadata": {},
   "outputs": [
    {
     "data": {
      "text/plain": [
       "issue_d\n",
       "Nov-11    2062\n",
       "Dec-11    2042\n",
       "Oct-11    1941\n",
       "Sep-11    1913\n",
       "Aug-11    1798\n",
       "Jul-11    1745\n",
       "Jun-11    1728\n",
       "May-11    1609\n",
       "Apr-11    1559\n",
       "Mar-11    1442\n",
       "Jan-11    1380\n",
       "Feb-11    1297\n",
       "Dec-10    1267\n",
       "Oct-10    1132\n",
       "Nov-10    1121\n",
       "Jul-10    1119\n",
       "Sep-10    1086\n",
       "Aug-10    1078\n",
       "Jun-10    1029\n",
       "May-10     920\n",
       "Apr-10     827\n",
       "Mar-10     737\n",
       "Feb-10     627\n",
       "Nov-09     602\n",
       "Dec-09     598\n",
       "Jan-10     589\n",
       "Oct-09     545\n",
       "Sep-09     449\n",
       "Aug-09     408\n",
       "Jul-09     374\n",
       "Jun-09     356\n",
       "May-09     319\n",
       "Apr-09     290\n",
       "Mar-09     276\n",
       "Feb-09     260\n",
       "Jan-09     239\n",
       "Mar-08     236\n",
       "Dec-08     223\n",
       "Nov-08     184\n",
       "Feb-08     174\n",
       "Jan-08     171\n",
       "Apr-08     155\n",
       "Oct-08      96\n",
       "Dec-07      85\n",
       "Jul-08      83\n",
       "May-08      71\n",
       "Aug-08      71\n",
       "Jun-08      66\n",
       "Oct-07      47\n",
       "Nov-07      37\n",
       "Aug-07      33\n",
       "Sep-08      32\n",
       "Jul-07      30\n",
       "Sep-07      18\n",
       "Jun-07       1\n",
       "Name: count, dtype: int64"
      ]
     },
     "execution_count": 68,
     "metadata": {},
     "output_type": "execute_result"
    }
   ],
   "source": [
    "# Find the type of values in issue_d\n",
    "loan_df_clean.issue_d.value_counts()"
   ]
  },
  {
   "cell_type": "code",
   "execution_count": 69,
   "id": "92f296fe-53ca-47ce-8f39-6f7b4e6c4084",
   "metadata": {},
   "outputs": [],
   "source": [
    "# Converting issue_d datatype from object to datetime\n",
    "loan_df_clean.issue_d = pd.to_datetime(loan_df_clean.issue_d, format='%b-%y')"
   ]
  },
  {
   "cell_type": "code",
   "execution_count": 70,
   "id": "5b531ae7-9392-4c39-bb91-20b8a141590a",
   "metadata": {},
   "outputs": [
    {
     "name": "stdout",
     "output_type": "stream",
     "text": [
      "<class 'pandas.core.series.Series'>\n",
      "RangeIndex: 38577 entries, 0 to 38576\n",
      "Series name: issue_d\n",
      "Non-Null Count  Dtype         \n",
      "--------------  -----         \n",
      "38577 non-null  datetime64[ns]\n",
      "dtypes: datetime64[ns](1)\n",
      "memory usage: 301.5 KB\n"
     ]
    }
   ],
   "source": [
    "# Checking the issue_d datatype after conversion\n",
    "loan_df_clean.issue_d.info()"
   ]
  },
  {
   "cell_type": "code",
   "execution_count": 71,
   "id": "66d3cc04-a759-47fd-bd5c-3353e862ac8d",
   "metadata": {},
   "outputs": [
    {
     "data": {
      "text/plain": [
       "(71, 40)"
      ]
     },
     "execution_count": 71,
     "metadata": {},
     "output_type": "execute_result"
    }
   ],
   "source": [
    "# Find the total null values in the last_pymnt_d column for column loan_status Charged Off\n",
    "loan_df_clean[(loan_df_clean.last_pymnt_d.isnull()) & (loan_df_clean.loan_status == \"Charged Off\")].shape"
   ]
  },
  {
   "cell_type": "code",
   "execution_count": 72,
   "id": "875b1d8e-790b-4715-85ec-026dbc02358e",
   "metadata": {},
   "outputs": [
    {
     "data": {
      "text/plain": [
       "(0, 40)"
      ]
     },
     "execution_count": 72,
     "metadata": {},
     "output_type": "execute_result"
    }
   ],
   "source": [
    "# Find the total null values in the last_pymnt_d column for column loan_status Fully Paid\n",
    "loan_df_clean[(loan_df_clean.last_pymnt_d.isnull()) & (loan_df_clean.loan_status == \"Fully Paid\")].shape"
   ]
  },
  {
   "cell_type": "code",
   "execution_count": 73,
   "id": "93c4e59a-2627-434d-a265-54603f594941",
   "metadata": {},
   "outputs": [],
   "source": [
    "# Impute last_pymnt_d having null values with a time before the \n",
    "# loan status was changed to Charged Off i.e. 3 months from the loan issued date\n",
    "loan_df_clean.loc[(loan_df_clean.last_pymnt_d.isnull()) & \n",
    "(loan_df_clean.loan_status == \"Charged Off\"), 'last_pymnt_d'] = loan_df_clean.issue_d + pd.DateOffset(months=3)"
   ]
  },
  {
   "cell_type": "code",
   "execution_count": 74,
   "id": "1785c5e9-d047-4595-95cf-ff74e3b46c44",
   "metadata": {},
   "outputs": [
    {
     "data": {
      "text/plain": [
       "(0, 40)"
      ]
     },
     "execution_count": 74,
     "metadata": {},
     "output_type": "execute_result"
    }
   ],
   "source": [
    "# Find the total null values in the last_pymnt_d column after imputing\n",
    "loan_df_clean[loan_df_clean.last_pymnt_d.isnull()].shape"
   ]
  },
  {
   "cell_type": "code",
   "execution_count": 75,
   "id": "55f4ec2b-4a26-4e64-aff0-9006b333f6ee",
   "metadata": {},
   "outputs": [
    {
     "data": {
      "text/plain": [
       "0    10+ years\n",
       "Name: emp_length, dtype: object"
      ]
     },
     "execution_count": 75,
     "metadata": {},
     "output_type": "execute_result"
    }
   ],
   "source": [
    "# Find the most used value in emp_length\n",
    "loan_df_clean.emp_length.mode()"
   ]
  },
  {
   "cell_type": "code",
   "execution_count": 76,
   "id": "58b57dd0-3a16-490a-8b8f-0c29384486b9",
   "metadata": {},
   "outputs": [],
   "source": [
    "# Impute emp_length having null values with the most used value of emp_length \n",
    "loan_df_clean.emp_length.fillna(loan_df_clean.emp_length.mode()[0], inplace = True)"
   ]
  },
  {
   "cell_type": "code",
   "execution_count": 77,
   "id": "87f21939-7cc0-480d-806f-89bcc9446b9f",
   "metadata": {},
   "outputs": [
    {
     "data": {
      "text/plain": [
       "count    37880.000000\n",
       "mean         0.043479\n",
       "std          0.204583\n",
       "min          0.000000\n",
       "25%          0.000000\n",
       "50%          0.000000\n",
       "75%          0.000000\n",
       "max          2.000000\n",
       "Name: pub_rec_bankruptcies, dtype: float64"
      ]
     },
     "execution_count": 77,
     "metadata": {},
     "output_type": "execute_result"
    }
   ],
   "source": [
    "# Find the statistical values of pub_rec_bankruptcies\n",
    "loan_df_clean.pub_rec_bankruptcies.describe()"
   ]
  },
  {
   "cell_type": "code",
   "execution_count": 78,
   "id": "e1c0fcc7-8bf1-48fe-97c6-94b6e6e8bc86",
   "metadata": {},
   "outputs": [],
   "source": [
    "# Impute pub_rec_bankruptcies having null values with it's median\n",
    "loan_df_clean.pub_rec_bankruptcies.fillna(loan_df_clean.pub_rec_bankruptcies.median(), inplace = True)"
   ]
  },
  {
   "cell_type": "code",
   "execution_count": 79,
   "id": "8962a978-e457-40ca-8934-1f915454022a",
   "metadata": {},
   "outputs": [
    {
     "data": {
      "text/plain": [
       "last_credit_pull_d\n",
       "May-16    9333\n",
       "Apr-16    2393\n",
       "Mar-16    1122\n",
       "Feb-13     843\n",
       "Feb-16     733\n",
       "Jan-16     657\n",
       "Dec-15     647\n",
       "Mar-13     576\n",
       "Mar-14     564\n",
       "Dec-14     562\n",
       "Jul-14     555\n",
       "Sep-14     546\n",
       "Jul-15     535\n",
       "Feb-14     531\n",
       "Nov-15     529\n",
       "Oct-14     529\n",
       "Aug-14     522\n",
       "Jan-14     516\n",
       "Sep-15     512\n",
       "Oct-15     502\n",
       "Nov-14     497\n",
       "Apr-14     494\n",
       "Nov-13     473\n",
       "May-14     473\n",
       "Jun-14     465\n",
       "May-13     448\n",
       "Jan-15     436\n",
       "Apr-13     425\n",
       "May-15     422\n",
       "Dec-13     422\n",
       "Aug-15     422\n",
       "Oct-13     416\n",
       "Nov-12     404\n",
       "Jul-13     396\n",
       "Sep-12     391\n",
       "Sep-13     390\n",
       "Apr-15     388\n",
       "Aug-12     377\n",
       "Jun-15     375\n",
       "Dec-12     374\n",
       "Mar-15     371\n",
       "Aug-13     370\n",
       "Jun-13     370\n",
       "Feb-12     368\n",
       "Feb-15     358\n",
       "Mar-12     338\n",
       "Oct-12     332\n",
       "May-12     324\n",
       "Apr-12     308\n",
       "Jun-12     308\n",
       "Jul-12     297\n",
       "Jan-12     258\n",
       "Mar-11     257\n",
       "Aug-11     254\n",
       "Dec-11     245\n",
       "Nov-11     201\n",
       "May-11     193\n",
       "Jun-11     165\n",
       "Sep-11     157\n",
       "Jul-11     156\n",
       "Feb-11     151\n",
       "Oct-11     148\n",
       "Apr-11     135\n",
       "Jan-11     129\n",
       "Dec-10     111\n",
       "Jul-10     107\n",
       "Sep-10      97\n",
       "Nov-10      93\n",
       "Oct-10      89\n",
       "Feb-10      69\n",
       "Apr-10      60\n",
       "Aug-10      51\n",
       "May-10      50\n",
       "Mar-10      48\n",
       "Dec-09      46\n",
       "Jun-10      46\n",
       "Jan-13      34\n",
       "Oct-09      33\n",
       "Nov-09      28\n",
       "Jan-10      27\n",
       "Aug-09      19\n",
       "Feb-09      16\n",
       "Aug-07      15\n",
       "Apr-09      15\n",
       "Jan-09      14\n",
       "Jul-09      13\n",
       "Jun-09      13\n",
       "Jun-07      12\n",
       "Sep-09      11\n",
       "May-09      10\n",
       "Mar-09      10\n",
       "Aug-08       9\n",
       "Oct-08       9\n",
       "Sep-08       5\n",
       "Dec-08       5\n",
       "Mar-08       4\n",
       "Feb-08       3\n",
       "Jan-08       3\n",
       "Oct-07       3\n",
       "Dec-07       2\n",
       "Sep-07       2\n",
       "May-08       1\n",
       "Jun-08       1\n",
       "Jul-08       1\n",
       "May-07       1\n",
       "Jul-07       1\n",
       "Name: count, dtype: int64"
      ]
     },
     "execution_count": 79,
     "metadata": {},
     "output_type": "execute_result"
    }
   ],
   "source": [
    "# Find the type of values in last_credit_pull_d\n",
    "loan_df_clean.last_credit_pull_d.value_counts()"
   ]
  },
  {
   "cell_type": "code",
   "execution_count": 80,
   "id": "3670c439-b2a4-4540-a0f4-1330f74919a8",
   "metadata": {},
   "outputs": [],
   "source": [
    "# Converting last_credit_pull_d datatype from object to datetime\n",
    "loan_df_clean.last_credit_pull_d = pd.to_datetime(loan_df_clean.last_credit_pull_d, format='%b-%y')"
   ]
  },
  {
   "cell_type": "code",
   "execution_count": 81,
   "id": "a53c1ae4-6244-4342-ad13-a2a393c5913a",
   "metadata": {},
   "outputs": [
    {
     "name": "stdout",
     "output_type": "stream",
     "text": [
      "<class 'pandas.core.series.Series'>\n",
      "RangeIndex: 38577 entries, 0 to 38576\n",
      "Series name: last_credit_pull_d\n",
      "Non-Null Count  Dtype         \n",
      "--------------  -----         \n",
      "38575 non-null  datetime64[ns]\n",
      "dtypes: datetime64[ns](1)\n",
      "memory usage: 301.5 KB\n"
     ]
    }
   ],
   "source": [
    "# Checking the issue_d datatype after conversion\n",
    "loan_df_clean.last_credit_pull_d.info()"
   ]
  },
  {
   "cell_type": "code",
   "execution_count": 82,
   "id": "f5d56956-d2d9-44f5-b4f1-6c16bceb2bf2",
   "metadata": {},
   "outputs": [],
   "source": [
    "# Impute last_credit_pull_d having null values with it's issue_d\n",
    "# assuming that the credit pulls happens around the same time when the loan is issued\n",
    "loan_df_clean.last_credit_pull_d.fillna(loan_df_clean.issue_d, inplace = True)"
   ]
  },
  {
   "cell_type": "code",
   "execution_count": 83,
   "id": "46e4499f-4e37-48f9-9939-bae21e2f1e73",
   "metadata": {},
   "outputs": [
    {
     "data": {
      "text/plain": [
       "count    13672.000000\n",
       "mean        35.882534\n",
       "std         22.028093\n",
       "min          0.000000\n",
       "25%         18.000000\n",
       "50%         34.000000\n",
       "75%         52.000000\n",
       "max        120.000000\n",
       "Name: mths_since_last_delinq, dtype: float64"
      ]
     },
     "execution_count": 83,
     "metadata": {},
     "output_type": "execute_result"
    }
   ],
   "source": [
    "# Find the statistical values of mths_since_last_delinq\n",
    "loan_df_clean.mths_since_last_delinq.describe()"
   ]
  },
  {
   "cell_type": "code",
   "execution_count": 84,
   "id": "6f137839-cef4-4bc6-b132-ab4551799382",
   "metadata": {},
   "outputs": [],
   "source": [
    "# Impute mths_since_last_delinq having null values with it's median\n",
    "loan_df_clean.mths_since_last_delinq.fillna(loan_df_clean.mths_since_last_delinq.median(), inplace = True)"
   ]
  },
  {
   "cell_type": "code",
   "execution_count": 85,
   "id": "fb9b441d-8e50-4e7e-8be8-894ddf9a24a1",
   "metadata": {},
   "outputs": [
    {
     "name": "stdout",
     "output_type": "stream",
     "text": [
      "<class 'pandas.core.frame.DataFrame'>\n",
      "RangeIndex: 38577 entries, 0 to 38576\n",
      "Data columns (total 40 columns):\n",
      " #   Column                   Non-Null Count  Dtype         \n",
      "---  ------                   --------------  -----         \n",
      " 0   id                       38577 non-null  int64         \n",
      " 1   member_id                38577 non-null  int64         \n",
      " 2   loan_amnt                38577 non-null  int64         \n",
      " 3   funded_amnt              38577 non-null  int64         \n",
      " 4   term                     38577 non-null  object        \n",
      " 5   int_rate                 38577 non-null  object        \n",
      " 6   installment              38577 non-null  float64       \n",
      " 7   grade                    38577 non-null  object        \n",
      " 8   sub_grade                38577 non-null  object        \n",
      " 9   emp_title                38577 non-null  object        \n",
      " 10  emp_length               38577 non-null  object        \n",
      " 11  home_ownership           38577 non-null  object        \n",
      " 12  annual_inc               38577 non-null  float64       \n",
      " 13  verification_status      38577 non-null  object        \n",
      " 14  issue_d                  38577 non-null  datetime64[ns]\n",
      " 15  loan_status              38577 non-null  object        \n",
      " 16  pymnt_plan               38577 non-null  object        \n",
      " 17  purpose                  38577 non-null  object        \n",
      " 18  title                    38577 non-null  object        \n",
      " 19  dti                      38577 non-null  float64       \n",
      " 20  delinq_2yrs              38577 non-null  int64         \n",
      " 21  earliest_cr_line         38577 non-null  object        \n",
      " 22  inq_last_6mths           38577 non-null  int64         \n",
      " 23  mths_since_last_delinq   38577 non-null  float64       \n",
      " 24  open_acc                 38577 non-null  int64         \n",
      " 25  pub_rec                  38577 non-null  int64         \n",
      " 26  revol_bal                38577 non-null  int64         \n",
      " 27  revol_util               38577 non-null  float64       \n",
      " 28  total_acc                38577 non-null  int64         \n",
      " 29  total_pymnt              38577 non-null  float64       \n",
      " 30  total_pymnt_inv          38577 non-null  float64       \n",
      " 31  total_rec_prncp          38577 non-null  float64       \n",
      " 32  total_rec_int            38577 non-null  float64       \n",
      " 33  total_rec_late_fee       38577 non-null  float64       \n",
      " 34  recoveries               38577 non-null  float64       \n",
      " 35  collection_recovery_fee  38577 non-null  float64       \n",
      " 36  last_pymnt_d             38577 non-null  datetime64[ns]\n",
      " 37  last_pymnt_amnt          38577 non-null  float64       \n",
      " 38  last_credit_pull_d       38577 non-null  datetime64[ns]\n",
      " 39  pub_rec_bankruptcies     38577 non-null  float64       \n",
      "dtypes: datetime64[ns](3), float64(14), int64(10), object(13)\n",
      "memory usage: 11.8+ MB\n"
     ]
    }
   ],
   "source": [
    "# Checing the dataframe info after imputing columns\n",
    "loan_df_clean.info()"
   ]
  },
  {
   "cell_type": "code",
   "execution_count": 134,
   "id": "027cb0da-25fe-45b5-a00c-3c8891af83a4",
   "metadata": {},
   "outputs": [],
   "source": [
    "# Remove the \"%\" symbol from the int_rate column values\n",
    "loan_df_clean.int_rate = loan_df_clean.int_rate.apply(lambda x : x.replace(\"%\", \"\"))"
   ]
  },
  {
   "cell_type": "code",
   "execution_count": 135,
   "id": "35185cc0-5ccf-479e-a27b-fd23ca0d927f",
   "metadata": {},
   "outputs": [],
   "source": [
    "# Converting the value of int_rate to float as it is a percentage value\n",
    "loan_df_clean.int_rate = loan_df_clean.int_rate.astype(\"float64\")"
   ]
  },
  {
   "cell_type": "code",
   "execution_count": 136,
   "id": "f60072ef-7a88-40ba-96ca-f787b779e5ec",
   "metadata": {},
   "outputs": [
    {
     "name": "stdout",
     "output_type": "stream",
     "text": [
      "<class 'pandas.core.series.Series'>\n",
      "RangeIndex: 34879 entries, 0 to 34878\n",
      "Series name: int_rate\n",
      "Non-Null Count  Dtype  \n",
      "--------------  -----  \n",
      "34879 non-null  float64\n",
      "dtypes: float64(1)\n",
      "memory usage: 272.6 KB\n"
     ]
    }
   ],
   "source": [
    "# Checking the int_rate datatype after conversion\n",
    "loan_df_clean.int_rate.info()"
   ]
  },
  {
   "cell_type": "code",
   "execution_count": 137,
   "id": "e2bbee65-6611-493e-9aa0-2447c6437478",
   "metadata": {},
   "outputs": [],
   "source": [
    "# Remove the \" months\" string from the term column values\n",
    "loan_df_clean.term = loan_df_clean.term.apply(lambda x : x.replace(\" months\", \"\"))"
   ]
  },
  {
   "cell_type": "code",
   "execution_count": 138,
   "id": "39e816cc-b993-464a-b898-47d53e6e9dd5",
   "metadata": {},
   "outputs": [],
   "source": [
    "# Converting the term value to integer\n",
    "loan_df_clean.term = loan_df_clean.term.astype(\"int64\")"
   ]
  },
  {
   "cell_type": "code",
   "execution_count": 139,
   "id": "5896ed0f-f827-4c95-9d5c-ccfe413abd7f",
   "metadata": {},
   "outputs": [
    {
     "name": "stdout",
     "output_type": "stream",
     "text": [
      "<class 'pandas.core.series.Series'>\n",
      "RangeIndex: 34879 entries, 0 to 34878\n",
      "Series name: term\n",
      "Non-Null Count  Dtype\n",
      "--------------  -----\n",
      "34879 non-null  int64\n",
      "dtypes: int64(1)\n",
      "memory usage: 272.6 KB\n"
     ]
    }
   ],
   "source": [
    "# Checking the term datatype after conversion\n",
    "loan_df_clean.term.info()"
   ]
  },
  {
   "cell_type": "code",
   "execution_count": 86,
   "id": "d91f81be-7699-416e-b49c-92eb22a54824",
   "metadata": {},
   "outputs": [
    {
     "data": {
      "text/plain": [
       "id                         0\n",
       "member_id                  0\n",
       "loan_amnt                  0\n",
       "funded_amnt                0\n",
       "term                       0\n",
       "int_rate                   0\n",
       "installment                0\n",
       "grade                      0\n",
       "sub_grade                  0\n",
       "emp_title                  0\n",
       "emp_length                 0\n",
       "home_ownership             0\n",
       "annual_inc                 0\n",
       "verification_status        0\n",
       "issue_d                    0\n",
       "loan_status                0\n",
       "pymnt_plan                 0\n",
       "purpose                    0\n",
       "title                      0\n",
       "dti                        0\n",
       "delinq_2yrs                0\n",
       "earliest_cr_line           0\n",
       "inq_last_6mths             0\n",
       "mths_since_last_delinq     0\n",
       "open_acc                   0\n",
       "pub_rec                    0\n",
       "revol_bal                  0\n",
       "revol_util                 0\n",
       "total_acc                  0\n",
       "total_pymnt                0\n",
       "total_pymnt_inv            0\n",
       "total_rec_prncp            0\n",
       "total_rec_int              0\n",
       "total_rec_late_fee         0\n",
       "recoveries                 0\n",
       "collection_recovery_fee    0\n",
       "last_pymnt_d               0\n",
       "last_pymnt_amnt            0\n",
       "last_credit_pull_d         0\n",
       "pub_rec_bankruptcies       0\n",
       "dtype: int64"
      ]
     },
     "execution_count": 86,
     "metadata": {},
     "output_type": "execute_result"
    }
   ],
   "source": [
    "# Find the total null values in the data after imputing and data manipulation\n",
    "loan_df_clean.isnull().sum()"
   ]
  },
  {
   "cell_type": "code",
   "execution_count": 87,
   "id": "e47f38a4-d7c3-4141-85f9-5bb723899a69",
   "metadata": {},
   "outputs": [],
   "source": [
    "# Save the clean loan data to csv just for the reference\n",
    "loan_df_clean.to_csv(\"loan_data_clean.csv\")"
   ]
  },
  {
   "cell_type": "markdown",
   "id": "75d6d356-fe5c-4bf4-b407-c2555414fc48",
   "metadata": {},
   "source": [
    "### Outlier Analysis using Boxplot"
   ]
  },
  {
   "cell_type": "code",
   "execution_count": 89,
   "id": "149c7894-3d34-420d-b82b-fbc68bcde46c",
   "metadata": {},
   "outputs": [
    {
     "data": {
      "image/png": "[encoded data removed]",
      "text/plain": [
       "<Figure size 640x480 with 1 Axes>"
      ]
     },
     "metadata": {},
     "output_type": "display_data"
    }
   ],
   "source": [
    "# Outlier detection for loan_amnt\n",
    "sns.boxplot(loan_df_clean.loan_amnt)\n",
    "plt.title(\"Loan Amount Outlier Detection\")\n",
    "plt.show()"
   ]
  },
  {
   "cell_type": "code",
   "execution_count": 90,
   "id": "341d226e-2c08-4173-98bd-91a58782faa5",
   "metadata": {},
   "outputs": [],
   "source": [
    "# Using IQR -> Inter Quartile Range method we are going to remove the outliers\n",
    "# Find q1 i.e. the 25th percentile fo the value\n",
    "q1 = loan_df_clean[\"loan_amnt\"].quantile(0.25)"
   ]
  },
  {
   "cell_type": "code",
   "execution_count": 91,
   "id": "714db11a-8eff-4437-9b21-0fecb0a791b0",
   "metadata": {},
   "outputs": [],
   "source": [
    "# Find q3 i.e. the 75th percentile fo the value\n",
    "q3 = loan_df_clean[\"loan_amnt\"].quantile(0.75)"
   ]
  },
  {
   "cell_type": "code",
   "execution_count": 92,
   "id": "e0b5df3d-6b4a-4f26-ac4f-d7da7d9ab950",
   "metadata": {},
   "outputs": [],
   "source": [
    "# Find IQR\n",
    "iqr = q3 - q1"
   ]
  },
  {
   "cell_type": "code",
   "execution_count": 93,
   "id": "4cf2cb64-b881-48b1-a6c5-70446ffdb0c3",
   "metadata": {},
   "outputs": [
    {
     "data": {
      "text/plain": [
       "9700.0"
      ]
     },
     "execution_count": 93,
     "metadata": {},
     "output_type": "execute_result"
    }
   ],
   "source": [
    "# Print the IQR value\n",
    "iqr"
   ]
  },
  {
   "cell_type": "code",
   "execution_count": 94,
   "id": "46fbf688-129a-42fa-a026-beb8dca44dbc",
   "metadata": {},
   "outputs": [],
   "source": [
    "# Find the lower range\n",
    "lower_range = q1 - 1.5 * iqr"
   ]
  },
  {
   "cell_type": "code",
   "execution_count": 95,
   "id": "e586075a-2815-4f61-a2d7-c2a25bd5410f",
   "metadata": {},
   "outputs": [],
   "source": [
    "# Find the upper range\n",
    "upper_range = q3 + 1.5 * iqr"
   ]
  },
  {
   "cell_type": "code",
   "execution_count": 96,
   "id": "eeef6b5e-949a-493d-a465-67067bcb9067",
   "metadata": {},
   "outputs": [],
   "source": [
    "# Save the outlier data in the new dataframe\n",
    "outlier_iqr_loan_amnt = loan_df_clean[(loan_df_clean[\"loan_amnt\"] < lower_range) | (loan_df_clean[\"loan_amnt\"] > upper_range)]"
   ]
  },
  {
   "cell_type": "code",
   "execution_count": 97,
   "id": "70deac8e-307c-42a4-a51b-a456a1a6f7bc",
   "metadata": {},
   "outputs": [
    {
     "data": {
      "text/plain": [
       "(1088, 40)"
      ]
     },
     "execution_count": 97,
     "metadata": {},
     "output_type": "execute_result"
    }
   ],
   "source": [
    "# Print the shape of the outlier data\n",
    "outlier_iqr_loan_amnt.shape"
   ]
  },
  {
   "cell_type": "code",
   "execution_count": 98,
   "id": "5bcb4dea-a45a-48b1-87df-cff5af908704",
   "metadata": {},
   "outputs": [
    {
     "data": {
      "text/plain": [
       "(38577, 40)"
      ]
     },
     "execution_count": 98,
     "metadata": {},
     "output_type": "execute_result"
    }
   ],
   "source": [
    "# Print the shape of the clean data\n",
    "loan_df_clean.shape"
   ]
  },
  {
   "cell_type": "code",
   "execution_count": 99,
   "id": "7d231d12-3e39-4a8c-9f5d-7a41b6db13a5",
   "metadata": {},
   "outputs": [],
   "source": [
    "# Dropping the outlier data for the loan_amnt\n",
    "loan_df_clean = loan_df_clean.drop(outlier_iqr_loan_amnt.index)"
   ]
  },
  {
   "cell_type": "code",
   "execution_count": 100,
   "id": "a56dcaa0-6f82-4d6f-862b-e4c5994435c1",
   "metadata": {},
   "outputs": [
    {
     "data": {
      "text/plain": [
       "(37489, 40)"
      ]
     },
     "execution_count": 100,
     "metadata": {},
     "output_type": "execute_result"
    }
   ],
   "source": [
    "# Print the shape of the data after dropping the outliers\n",
    "loan_df_clean.shape"
   ]
  },
  {
   "cell_type": "code",
   "execution_count": 102,
   "id": "19c46bdc-0cbf-49b9-b576-0a13dd53b65f",
   "metadata": {},
   "outputs": [
    {
     "data": {
      "image/png": "[encoded data removed]",
      "text/plain": [
       "<Figure size 640x480 with 1 Axes>"
      ]
     },
     "metadata": {},
     "output_type": "display_data"
    }
   ],
   "source": [
    "# Again create a boxPlot to verify the outliers\n",
    "sns.boxplot(loan_df_clean.loan_amnt)\n",
    "plt.show()"
   ]
  },
  {
   "cell_type": "code",
   "execution_count": 103,
   "id": "8cea0d63-ddfd-427c-83d7-702b3f2a55d8",
   "metadata": {},
   "outputs": [
    {
     "data": {
      "image/png": "[encoded data removed]",
      "text/plain": [
       "<Figure size 640x480 with 1 Axes>"
      ]
     },
     "metadata": {},
     "output_type": "display_data"
    }
   ],
   "source": [
    "# Outlier detection for annual_inc\n",
    "sns.boxplot(loan_df_clean[\"annual_inc\"])\n",
    "plt.title(\"Annual Income Outlier Detection\")\n",
    "plt.show()"
   ]
  },
  {
   "cell_type": "code",
   "execution_count": 104,
   "id": "a52073f0-4dc4-4923-b9dc-bc075d8eafd6",
   "metadata": {},
   "outputs": [],
   "source": [
    "# Using IQR -> Inter Quartile Range method we are going to remove the outliers\n",
    "# Find q1 i.e. the 25th percentile fo the value\n",
    "q1 = loan_df_clean[\"annual_inc\"].quantile(0.25)"
   ]
  },
  {
   "cell_type": "code",
   "execution_count": 105,
   "id": "4c0370aa-6aaf-4f77-b0f3-a7b668ef839a",
   "metadata": {},
   "outputs": [],
   "source": [
    "# Find q3 i.e. the 75th percentile fo the value\n",
    "q3 = loan_df_clean[\"annual_inc\"].quantile(0.75)"
   ]
  },
  {
   "cell_type": "code",
   "execution_count": 106,
   "id": "40043b28-8df9-42db-92ec-77f62c75f2d2",
   "metadata": {},
   "outputs": [],
   "source": [
    "# Find IQR\n",
    "iqr = q3 - q1"
   ]
  },
  {
   "cell_type": "code",
   "execution_count": 107,
   "id": "280951f7-b49b-4b5a-974a-490c522859ee",
   "metadata": {},
   "outputs": [
    {
     "data": {
      "text/plain": [
       "40000.0"
      ]
     },
     "execution_count": 107,
     "metadata": {},
     "output_type": "execute_result"
    }
   ],
   "source": [
    "# Print the IQR value\n",
    "iqr"
   ]
  },
  {
   "cell_type": "code",
   "execution_count": 108,
   "id": "459fe77b-6d93-4200-91c0-de566f7af385",
   "metadata": {},
   "outputs": [],
   "source": [
    "# Find the lower range\n",
    "lower_range = q1 - 1.5 * iqr"
   ]
  },
  {
   "cell_type": "code",
   "execution_count": 109,
   "id": "2a809346-47a3-4295-8b11-5d7f1fbe3c9e",
   "metadata": {},
   "outputs": [],
   "source": [
    "# Find the upper range\n",
    "upper_range = q3 + 1.5 * iqr"
   ]
  },
  {
   "cell_type": "code",
   "execution_count": 110,
   "id": "023d2e50-f10f-42c7-8f4e-eac127705f54",
   "metadata": {},
   "outputs": [],
   "source": [
    "# Save the outlier data in the new dataframe\n",
    "outlier_iqr_ann_inc = loan_df_clean[(loan_df_clean[\"annual_inc\"] < lower_range) | (loan_df_clean[\"annual_inc\"] > upper_range)]"
   ]
  },
  {
   "cell_type": "code",
   "execution_count": 111,
   "id": "37e6a1ad-7b43-43f7-8589-1c631f7e3603",
   "metadata": {},
   "outputs": [
    {
     "data": {
      "text/plain": [
       "(1661, 40)"
      ]
     },
     "execution_count": 111,
     "metadata": {},
     "output_type": "execute_result"
    }
   ],
   "source": [
    "# Print the shape of the outlier data\n",
    "outlier_iqr_ann_inc.shape"
   ]
  },
  {
   "cell_type": "code",
   "execution_count": 112,
   "id": "0d2641e1-8eb6-4798-9754-455b2754ff5c",
   "metadata": {},
   "outputs": [
    {
     "data": {
      "text/plain": [
       "(37489, 40)"
      ]
     },
     "execution_count": 112,
     "metadata": {},
     "output_type": "execute_result"
    }
   ],
   "source": [
    "# Print the shape of the clean data\n",
    "loan_df_clean.shape"
   ]
  },
  {
   "cell_type": "code",
   "execution_count": 113,
   "id": "a3182b3c-5e1b-4b3a-99ba-eb3eadf74ba2",
   "metadata": {},
   "outputs": [],
   "source": [
    "# Dropping the outlier data for the loan_amnt\n",
    "loan_df_clean = loan_df_clean.drop(outlier_iqr_ann_inc.index)"
   ]
  },
  {
   "cell_type": "code",
   "execution_count": 114,
   "id": "781b03a6-e27d-4d99-ac23-b5e0adf49fd4",
   "metadata": {},
   "outputs": [
    {
     "data": {
      "text/plain": [
       "(35828, 40)"
      ]
     },
     "execution_count": 114,
     "metadata": {},
     "output_type": "execute_result"
    }
   ],
   "source": [
    "# Print the shape of the data after dropping the outliers\n",
    "loan_df_clean.shape"
   ]
  },
  {
   "cell_type": "code",
   "execution_count": 115,
   "id": "3510a4d8-14d5-44c9-a49f-f9ee4ba512fc",
   "metadata": {},
   "outputs": [
    {
     "data": {
      "image/png": "[encoded data removed]",
      "text/plain": [
       "<Figure size 640x480 with 1 Axes>"
      ]
     },
     "metadata": {},
     "output_type": "display_data"
    }
   ],
   "source": [
    "# Again create a boxPlot to verify the outliers\n",
    "sns.boxplot(loan_df_clean.annual_inc)\n",
    "plt.show()"
   ]
  },
  {
   "cell_type": "code",
   "execution_count": 116,
   "id": "4f27da42-5495-4d4f-b3f1-487301e2dc49",
   "metadata": {},
   "outputs": [],
   "source": [
    "# As we can see in the above boxPlot still there are outliers in the data\n",
    "# For removing the remaining outliers we would consider only the values < 125000 as the annual income\n",
    "loan_df_clean = loan_df_clean[loan_df_clean.annual_inc < 125000]"
   ]
  },
  {
   "cell_type": "code",
   "execution_count": 117,
   "id": "623e4366-083e-4360-976b-abb9e447482e",
   "metadata": {},
   "outputs": [
    {
     "data": {
      "text/plain": [
       "(34879, 40)"
      ]
     },
     "execution_count": 117,
     "metadata": {},
     "output_type": "execute_result"
    }
   ],
   "source": [
    "# Print the shape of the data after dropping the extra rows\n",
    "loan_df_clean.shape"
   ]
  },
  {
   "cell_type": "code",
   "execution_count": 118,
   "id": "a50d88c8-547f-41bc-b536-57632105be37",
   "metadata": {},
   "outputs": [
    {
     "name": "stdout",
     "output_type": "stream",
     "text": [
      "<class 'pandas.core.frame.DataFrame'>\n",
      "Index: 34879 entries, 0 to 38576\n",
      "Data columns (total 40 columns):\n",
      " #   Column                   Non-Null Count  Dtype         \n",
      "---  ------                   --------------  -----         \n",
      " 0   id                       34879 non-null  int64         \n",
      " 1   member_id                34879 non-null  int64         \n",
      " 2   loan_amnt                34879 non-null  int64         \n",
      " 3   funded_amnt              34879 non-null  int64         \n",
      " 4   term                     34879 non-null  object        \n",
      " 5   int_rate                 34879 non-null  object        \n",
      " 6   installment              34879 non-null  float64       \n",
      " 7   grade                    34879 non-null  object        \n",
      " 8   sub_grade                34879 non-null  object        \n",
      " 9   emp_title                34879 non-null  object        \n",
      " 10  emp_length               34879 non-null  object        \n",
      " 11  home_ownership           34879 non-null  object        \n",
      " 12  annual_inc               34879 non-null  float64       \n",
      " 13  verification_status      34879 non-null  object        \n",
      " 14  issue_d                  34879 non-null  datetime64[ns]\n",
      " 15  loan_status              34879 non-null  object        \n",
      " 16  pymnt_plan               34879 non-null  object        \n",
      " 17  purpose                  34879 non-null  object        \n",
      " 18  title                    34879 non-null  object        \n",
      " 19  dti                      34879 non-null  float64       \n",
      " 20  delinq_2yrs              34879 non-null  int64         \n",
      " 21  earliest_cr_line         34879 non-null  object        \n",
      " 22  inq_last_6mths           34879 non-null  int64         \n",
      " 23  mths_since_last_delinq   34879 non-null  float64       \n",
      " 24  open_acc                 34879 non-null  int64         \n",
      " 25  pub_rec                  34879 non-null  int64         \n",
      " 26  revol_bal                34879 non-null  int64         \n",
      " 27  revol_util               34879 non-null  float64       \n",
      " 28  total_acc                34879 non-null  int64         \n",
      " 29  total_pymnt              34879 non-null  float64       \n",
      " 30  total_pymnt_inv          34879 non-null  float64       \n",
      " 31  total_rec_prncp          34879 non-null  float64       \n",
      " 32  total_rec_int            34879 non-null  float64       \n",
      " 33  total_rec_late_fee       34879 non-null  float64       \n",
      " 34  recoveries               34879 non-null  float64       \n",
      " 35  collection_recovery_fee  34879 non-null  float64       \n",
      " 36  last_pymnt_d             34879 non-null  datetime64[ns]\n",
      " 37  last_pymnt_amnt          34879 non-null  float64       \n",
      " 38  last_credit_pull_d       34879 non-null  datetime64[ns]\n",
      " 39  pub_rec_bankruptcies     34879 non-null  float64       \n",
      "dtypes: datetime64[ns](3), float64(14), int64(10), object(13)\n",
      "memory usage: 10.9+ MB\n"
     ]
    }
   ],
   "source": [
    "# Checking the index of the dataframe as we have removed the rows\n",
    "loan_df_clean.info()"
   ]
  },
  {
   "cell_type": "code",
   "execution_count": 119,
   "id": "25f4719b-c104-4a05-a1cc-a21159a11478",
   "metadata": {},
   "outputs": [],
   "source": [
    "# Resetting the index to make it sqequential\n",
    "loan_df_clean.reset_index(inplace = True, drop = True)"
   ]
  },
  {
   "cell_type": "code",
   "execution_count": 121,
   "id": "e55e322d-20fe-42bd-b89e-0996c30dfd71",
   "metadata": {},
   "outputs": [
    {
     "name": "stdout",
     "output_type": "stream",
     "text": [
      "<class 'pandas.core.frame.DataFrame'>\n",
      "RangeIndex: 34879 entries, 0 to 34878\n",
      "Data columns (total 40 columns):\n",
      " #   Column                   Non-Null Count  Dtype         \n",
      "---  ------                   --------------  -----         \n",
      " 0   id                       34879 non-null  int64         \n",
      " 1   member_id                34879 non-null  int64         \n",
      " 2   loan_amnt                34879 non-null  int64         \n",
      " 3   funded_amnt              34879 non-null  int64         \n",
      " 4   term                     34879 non-null  object        \n",
      " 5   int_rate                 34879 non-null  object        \n",
      " 6   installment              34879 non-null  float64       \n",
      " 7   grade                    34879 non-null  object        \n",
      " 8   sub_grade                34879 non-null  object        \n",
      " 9   emp_title                34879 non-null  object        \n",
      " 10  emp_length               34879 non-null  object        \n",
      " 11  home_ownership           34879 non-null  object        \n",
      " 12  annual_inc               34879 non-null  float64       \n",
      " 13  verification_status      34879 non-null  object        \n",
      " 14  issue_d                  34879 non-null  datetime64[ns]\n",
      " 15  loan_status              34879 non-null  object        \n",
      " 16  pymnt_plan               34879 non-null  object        \n",
      " 17  purpose                  34879 non-null  object        \n",
      " 18  title                    34879 non-null  object        \n",
      " 19  dti                      34879 non-null  float64       \n",
      " 20  delinq_2yrs              34879 non-null  int64         \n",
      " 21  earliest_cr_line         34879 non-null  object        \n",
      " 22  inq_last_6mths           34879 non-null  int64         \n",
      " 23  mths_since_last_delinq   34879 non-null  float64       \n",
      " 24  open_acc                 34879 non-null  int64         \n",
      " 25  pub_rec                  34879 non-null  int64         \n",
      " 26  revol_bal                34879 non-null  int64         \n",
      " 27  revol_util               34879 non-null  float64       \n",
      " 28  total_acc                34879 non-null  int64         \n",
      " 29  total_pymnt              34879 non-null  float64       \n",
      " 30  total_pymnt_inv          34879 non-null  float64       \n",
      " 31  total_rec_prncp          34879 non-null  float64       \n",
      " 32  total_rec_int            34879 non-null  float64       \n",
      " 33  total_rec_late_fee       34879 non-null  float64       \n",
      " 34  recoveries               34879 non-null  float64       \n",
      " 35  collection_recovery_fee  34879 non-null  float64       \n",
      " 36  last_pymnt_d             34879 non-null  datetime64[ns]\n",
      " 37  last_pymnt_amnt          34879 non-null  float64       \n",
      " 38  last_credit_pull_d       34879 non-null  datetime64[ns]\n",
      " 39  pub_rec_bankruptcies     34879 non-null  float64       \n",
      "dtypes: datetime64[ns](3), float64(14), int64(10), object(13)\n",
      "memory usage: 10.6+ MB\n"
     ]
    }
   ],
   "source": [
    "# Checking the index again after resetting it\n",
    "loan_df_clean.info()"
   ]
  },
  {
   "cell_type": "code",
   "execution_count": 123,
   "id": "8fb80a54-0abe-4f15-aa57-ccd8ba3e2d91",
   "metadata": {},
   "outputs": [
    {
     "data": {
      "image/png": "[encoded data removed]",
      "text/plain": [
       "<Figure size 640x480 with 1 Axes>"
      ]
     },
     "metadata": {},
     "output_type": "display_data"
    }
   ],
   "source": [
    "# Again create a boxPlot to verify the outliers\n",
    "# after removing extra rows\n",
    "sns.boxplot(loan_df_clean.annual_inc)\n",
    "plt.title(\"Annual Income Outlier Detection\")\n",
    "plt.show()"
   ]
  },
  {
   "cell_type": "markdown",
   "id": "8963ea8c-98a3-4d98-a808-570470348bb5",
   "metadata": {},
   "source": [
    "### Univariate Analysis"
   ]
  },
  {
   "cell_type": "code",
   "execution_count": 126,
   "id": "af59f0fd-6ab6-493d-8d5c-2ac8ea6f13a4",
   "metadata": {},
   "outputs": [
    {
     "data": {
      "image/png": "[encoded data removed]",
      "text/plain": [
       "<Figure size 640x480 with 1 Axes>"
      ]
     },
     "metadata": {},
     "output_type": "display_data"
    }
   ],
   "source": [
    "# Univariate Analysis\n",
    "# Pie Chart to find the percentage of \"Charged Off\" and \"Fully Paid\" loan status\n",
    "plt.pie(loan_df_clean.loan_status.value_counts(), labels = [\"Fully Paid\", \"Charged Off\"], autopct='%.0f%%')\n",
    "plt.title(\"Fully Paid versus Charged Off\")\n",
    "plt.show()"
   ]
  },
  {
   "cell_type": "code",
   "execution_count": 124,
   "id": "e3ab44ef-ac48-4d6b-9373-08c8add257d1",
   "metadata": {},
   "outputs": [],
   "source": [
    "# Saving the data for only \"Charged Off\" loan status in a new dataFrame\n",
    "loan_df_clean_charged_off = loan_df_clean[loan_df_clean.loan_status == \"Charged Off\"]"
   ]
  },
  {
   "cell_type": "code",
   "execution_count": 125,
   "id": "22bd9404-bfc8-4d08-8a26-4e3a2e93c015",
   "metadata": {},
   "outputs": [
    {
     "data": {
      "text/plain": [
       "(5104, 40)"
      ]
     },
     "execution_count": 125,
     "metadata": {},
     "output_type": "execute_result"
    }
   ],
   "source": [
    "# Print the shape of the new dataFrame\n",
    "loan_df_clean_charged_off.shape"
   ]
  },
  {
   "cell_type": "code",
   "execution_count": 129,
   "id": "433ec450-26c4-4f86-811d-648e5b03ba93",
   "metadata": {},
   "outputs": [
    {
     "data": {
      "image/png": "[encoded data removed]",
      "text/plain": [
       "<Figure size 640x480 with 1 Axes>"
      ]
     },
     "metadata": {},
     "output_type": "display_data"
    }
   ],
   "source": [
    "# Univariate Analysis\n",
    "# annual_inc -> Annual Income\n",
    "# (one of the driving variables for loan default)\n",
    "# People between 30k to 40K annual income could be considered\n",
    "# as high risk borrowers\n",
    "sns.histplot(loan_df_clean_charged_off[\"annual_inc\"], bins = 20)\n",
    "plt.title(\"Distribution of Annual Icome for Charged Off\")\n",
    "plt.xlabel(\"Annual Income\")\n",
    "plt.show()"
   ]
  },
  {
   "cell_type": "code",
   "execution_count": 130,
   "id": "72663d26-92d4-4d17-ad10-f3b1a686f6c9",
   "metadata": {},
   "outputs": [
    {
     "data": {
      "image/png": "[encoded data removed]",
      "text/plain": [
       "<Figure size 640x480 with 1 Axes>"
      ]
     },
     "metadata": {},
     "output_type": "display_data"
    }
   ],
   "source": [
    "# Univariate Analysis\n",
    "# dti -> Debt to Income Ratio\n",
    "# (one of the driving variables for loan default)\n",
    "# People between 10 to 15 debt to income ratio could be considered\n",
    "# as high risk borrowers\n",
    "sns.histplot(loan_df_clean_charged_off[\"dti\"], bins = 20)\n",
    "plt.title(\"Distribution of Debt to Income Ratio\")\n",
    "plt.xlabel(\"Debt to Income Ratio\")\n",
    "plt.show()"
   ]
  },
  {
   "cell_type": "code",
   "execution_count": 131,
   "id": "72ba5f9a-f895-4352-98b2-ff47171a3b67",
   "metadata": {},
   "outputs": [
    {
     "data": {
      "image/png": "[encoded data removed]",
      "text/plain": [
       "<Figure size 640x480 with 1 Axes>"
      ]
     },
     "metadata": {},
     "output_type": "display_data"
    }
   ],
   "source": [
    "# revol_util -> Revovling Utilization percentage\n",
    "# (one of the driving variables for loan default)\n",
    "# The people with very less credit utilization\n",
    "# and people with very high credit utilization\n",
    "# both are high risk borrowers\n",
    "sns.histplot(loan_df_clean_charged_off.revol_util, bins = 20, kde = True)\n",
    "plt.title(\"Distribution of Revolving Credit Utilization\")\n",
    "plt.xlabel(\"Revolving Utilization %\")\n",
    "plt.show()"
   ]
  },
  {
   "cell_type": "markdown",
   "id": "adf23111-af68-4800-890f-3e9d8ef9667b",
   "metadata": {},
   "source": [
    "### Bivariate Analysis"
   ]
  },
  {
   "cell_type": "code",
   "execution_count": 132,
   "id": "64a86962-e0bb-469d-a45d-8403517634f2",
   "metadata": {},
   "outputs": [
    {
     "data": {
      "image/png": "[encoded data removed]",
      "text/plain": [
       "<Figure size 640x480 with 1 Axes>"
      ]
     },
     "metadata": {},
     "output_type": "display_data"
    }
   ],
   "source": [
    "# Bivariate Analysis\n",
    "# delinq_2yrs variable could be one of the driving variables to say that\n",
    "# people with more Delinquencies are high risk borrowers\n",
    "sns.barplot(x = loan_df_clean[\"loan_status\"], y = loan_df_clean[\"delinq_2yrs\"])\n",
    "plt.title(\"Loan Status and Delinquencies in Past 2 years\")\n",
    "plt.xlabel(\"Loan Status\")\n",
    "plt.ylabel(\"Delinquencies in Past 2 years\")\n",
    "plt.show()"
   ]
  },
  {
   "cell_type": "code",
   "execution_count": 140,
   "id": "8ac89ab3-613b-4b33-8fa9-253cc9c6d831",
   "metadata": {},
   "outputs": [
    {
     "data": {
      "image/png": "[encoded data removed]",
      "text/plain": [
       "<Figure size 640x480 with 1 Axes>"
      ]
     },
     "metadata": {},
     "output_type": "display_data"
    }
   ],
   "source": [
    "# Bivariate Analysis\n",
    "# People with high interest rate are more likely to default on  their loan\n",
    "sns.barplot(x = loan_df_clean[\"loan_status\"], y = loan_df_clean[\"int_rate\"])\n",
    "plt.title(\"Loan Status and Interest Rate\")\n",
    "plt.xlabel(\"Loan Status\")\n",
    "plt.ylabel(\"Interest Rate\")\n",
    "plt.show()"
   ]
  },
  {
   "cell_type": "markdown",
   "id": "6b3bd80f-814f-4744-81f3-1fbe6debeafe",
   "metadata": {},
   "source": [
    "### Derived Metrics"
   ]
  },
  {
   "cell_type": "code",
   "execution_count": 141,
   "id": "ed3ce79c-5f59-4e5c-a05b-a5415d4f58b1",
   "metadata": {},
   "outputs": [],
   "source": [
    "# Creating a dervied integer variable column for people who have defaulted or not\n",
    "# value 1 for Charged off and 0 for Fully Paid to make the Analysis easier\n",
    "# (one of the driving variables for loan default)\n",
    "loan_df_clean[\"default\"] = loan_df_clean.loan_status.apply(lambda x : 1 if x == \"Charged Off\" else 0)"
   ]
  },
  {
   "cell_type": "code",
   "execution_count": 142,
   "id": "18178daf-db2e-427d-b1ce-28dd05f68497",
   "metadata": {},
   "outputs": [
    {
     "data": {
      "text/html": [
       "<div>\n",
       "<style scoped>\n",
       "    .dataframe tbody tr th:only-of-type {\n",
       "        vertical-align: middle;\n",
       "    }\n",
       "\n",
       "    .dataframe tbody tr th {\n",
       "        vertical-align: top;\n",
       "    }\n",
       "\n",
       "    .dataframe thead th {\n",
       "        text-align: right;\n",
       "    }\n",
       "</style>\n",
       "<table border=\"1\" class=\"dataframe\">\n",
       "  <thead>\n",
       "    <tr style=\"text-align: right;\">\n",
       "      <th></th>\n",
       "      <th>id</th>\n",
       "      <th>member_id</th>\n",
       "      <th>loan_amnt</th>\n",
       "      <th>funded_amnt</th>\n",
       "      <th>term</th>\n",
       "      <th>int_rate</th>\n",
       "      <th>installment</th>\n",
       "      <th>grade</th>\n",
       "      <th>sub_grade</th>\n",
       "      <th>emp_title</th>\n",
       "      <th>emp_length</th>\n",
       "      <th>home_ownership</th>\n",
       "      <th>annual_inc</th>\n",
       "      <th>verification_status</th>\n",
       "      <th>issue_d</th>\n",
       "      <th>loan_status</th>\n",
       "      <th>pymnt_plan</th>\n",
       "      <th>purpose</th>\n",
       "      <th>title</th>\n",
       "      <th>dti</th>\n",
       "      <th>delinq_2yrs</th>\n",
       "      <th>earliest_cr_line</th>\n",
       "      <th>inq_last_6mths</th>\n",
       "      <th>mths_since_last_delinq</th>\n",
       "      <th>open_acc</th>\n",
       "      <th>pub_rec</th>\n",
       "      <th>revol_bal</th>\n",
       "      <th>revol_util</th>\n",
       "      <th>total_acc</th>\n",
       "      <th>total_pymnt</th>\n",
       "      <th>total_pymnt_inv</th>\n",
       "      <th>total_rec_prncp</th>\n",
       "      <th>total_rec_int</th>\n",
       "      <th>total_rec_late_fee</th>\n",
       "      <th>recoveries</th>\n",
       "      <th>collection_recovery_fee</th>\n",
       "      <th>last_pymnt_d</th>\n",
       "      <th>last_pymnt_amnt</th>\n",
       "      <th>last_credit_pull_d</th>\n",
       "      <th>pub_rec_bankruptcies</th>\n",
       "      <th>default</th>\n",
       "    </tr>\n",
       "  </thead>\n",
       "  <tbody>\n",
       "    <tr>\n",
       "      <th>0</th>\n",
       "      <td>1077501</td>\n",
       "      <td>1296599</td>\n",
       "      <td>5000</td>\n",
       "      <td>5000</td>\n",
       "      <td>36</td>\n",
       "      <td>10.65</td>\n",
       "      <td>162.87</td>\n",
       "      <td>B</td>\n",
       "      <td>B2</td>\n",
       "      <td>US Army</td>\n",
       "      <td>10+ years</td>\n",
       "      <td>RENT</td>\n",
       "      <td>24000.0</td>\n",
       "      <td>Verified</td>\n",
       "      <td>2011-12-01</td>\n",
       "      <td>Fully Paid</td>\n",
       "      <td>n</td>\n",
       "      <td>credit_card</td>\n",
       "      <td>Computer</td>\n",
       "      <td>27.65</td>\n",
       "      <td>0</td>\n",
       "      <td>Jan-85</td>\n",
       "      <td>1</td>\n",
       "      <td>34.0</td>\n",
       "      <td>3</td>\n",
       "      <td>0</td>\n",
       "      <td>13648</td>\n",
       "      <td>83.7</td>\n",
       "      <td>9</td>\n",
       "      <td>5863.155187</td>\n",
       "      <td>5833.84</td>\n",
       "      <td>5000.00</td>\n",
       "      <td>863.16</td>\n",
       "      <td>0.00</td>\n",
       "      <td>0.00</td>\n",
       "      <td>0.00</td>\n",
       "      <td>2015-01-01</td>\n",
       "      <td>171.62</td>\n",
       "      <td>2016-05-01</td>\n",
       "      <td>0.0</td>\n",
       "      <td>0</td>\n",
       "    </tr>\n",
       "    <tr>\n",
       "      <th>1</th>\n",
       "      <td>1077430</td>\n",
       "      <td>1314167</td>\n",
       "      <td>2500</td>\n",
       "      <td>2500</td>\n",
       "      <td>60</td>\n",
       "      <td>15.27</td>\n",
       "      <td>59.83</td>\n",
       "      <td>C</td>\n",
       "      <td>C4</td>\n",
       "      <td>Ryder</td>\n",
       "      <td>&lt; 1 year</td>\n",
       "      <td>RENT</td>\n",
       "      <td>30000.0</td>\n",
       "      <td>Source Verified</td>\n",
       "      <td>2011-12-01</td>\n",
       "      <td>Charged Off</td>\n",
       "      <td>n</td>\n",
       "      <td>car</td>\n",
       "      <td>bike</td>\n",
       "      <td>1.00</td>\n",
       "      <td>0</td>\n",
       "      <td>Apr-99</td>\n",
       "      <td>5</td>\n",
       "      <td>34.0</td>\n",
       "      <td>3</td>\n",
       "      <td>0</td>\n",
       "      <td>1687</td>\n",
       "      <td>9.4</td>\n",
       "      <td>4</td>\n",
       "      <td>1008.710000</td>\n",
       "      <td>1008.71</td>\n",
       "      <td>456.46</td>\n",
       "      <td>435.17</td>\n",
       "      <td>0.00</td>\n",
       "      <td>117.08</td>\n",
       "      <td>1.11</td>\n",
       "      <td>2013-04-01</td>\n",
       "      <td>119.66</td>\n",
       "      <td>2013-09-01</td>\n",
       "      <td>0.0</td>\n",
       "      <td>1</td>\n",
       "    </tr>\n",
       "    <tr>\n",
       "      <th>2</th>\n",
       "      <td>1077175</td>\n",
       "      <td>1313524</td>\n",
       "      <td>2400</td>\n",
       "      <td>2400</td>\n",
       "      <td>36</td>\n",
       "      <td>15.96</td>\n",
       "      <td>84.33</td>\n",
       "      <td>C</td>\n",
       "      <td>C5</td>\n",
       "      <td>US Army</td>\n",
       "      <td>10+ years</td>\n",
       "      <td>RENT</td>\n",
       "      <td>12252.0</td>\n",
       "      <td>Not Verified</td>\n",
       "      <td>2011-12-01</td>\n",
       "      <td>Fully Paid</td>\n",
       "      <td>n</td>\n",
       "      <td>small_business</td>\n",
       "      <td>real estate business</td>\n",
       "      <td>8.72</td>\n",
       "      <td>0</td>\n",
       "      <td>Nov-01</td>\n",
       "      <td>2</td>\n",
       "      <td>34.0</td>\n",
       "      <td>2</td>\n",
       "      <td>0</td>\n",
       "      <td>2956</td>\n",
       "      <td>98.5</td>\n",
       "      <td>10</td>\n",
       "      <td>3005.666844</td>\n",
       "      <td>3005.67</td>\n",
       "      <td>2400.00</td>\n",
       "      <td>605.67</td>\n",
       "      <td>0.00</td>\n",
       "      <td>0.00</td>\n",
       "      <td>0.00</td>\n",
       "      <td>2014-06-01</td>\n",
       "      <td>649.91</td>\n",
       "      <td>2016-05-01</td>\n",
       "      <td>0.0</td>\n",
       "      <td>0</td>\n",
       "    </tr>\n",
       "    <tr>\n",
       "      <th>3</th>\n",
       "      <td>1076863</td>\n",
       "      <td>1277178</td>\n",
       "      <td>10000</td>\n",
       "      <td>10000</td>\n",
       "      <td>36</td>\n",
       "      <td>13.49</td>\n",
       "      <td>339.31</td>\n",
       "      <td>C</td>\n",
       "      <td>C1</td>\n",
       "      <td>AIR RESOURCES BOARD</td>\n",
       "      <td>10+ years</td>\n",
       "      <td>RENT</td>\n",
       "      <td>49200.0</td>\n",
       "      <td>Source Verified</td>\n",
       "      <td>2011-12-01</td>\n",
       "      <td>Fully Paid</td>\n",
       "      <td>n</td>\n",
       "      <td>other</td>\n",
       "      <td>personel</td>\n",
       "      <td>20.00</td>\n",
       "      <td>0</td>\n",
       "      <td>Feb-96</td>\n",
       "      <td>1</td>\n",
       "      <td>35.0</td>\n",
       "      <td>10</td>\n",
       "      <td>0</td>\n",
       "      <td>5598</td>\n",
       "      <td>21.0</td>\n",
       "      <td>37</td>\n",
       "      <td>12231.890000</td>\n",
       "      <td>12231.89</td>\n",
       "      <td>10000.00</td>\n",
       "      <td>2214.92</td>\n",
       "      <td>16.97</td>\n",
       "      <td>0.00</td>\n",
       "      <td>0.00</td>\n",
       "      <td>2015-01-01</td>\n",
       "      <td>357.48</td>\n",
       "      <td>2016-04-01</td>\n",
       "      <td>0.0</td>\n",
       "      <td>0</td>\n",
       "    </tr>\n",
       "    <tr>\n",
       "      <th>4</th>\n",
       "      <td>1075269</td>\n",
       "      <td>1311441</td>\n",
       "      <td>5000</td>\n",
       "      <td>5000</td>\n",
       "      <td>36</td>\n",
       "      <td>7.90</td>\n",
       "      <td>156.46</td>\n",
       "      <td>A</td>\n",
       "      <td>A4</td>\n",
       "      <td>Veolia Transportaton</td>\n",
       "      <td>3 years</td>\n",
       "      <td>RENT</td>\n",
       "      <td>36000.0</td>\n",
       "      <td>Source Verified</td>\n",
       "      <td>2011-12-01</td>\n",
       "      <td>Fully Paid</td>\n",
       "      <td>n</td>\n",
       "      <td>wedding</td>\n",
       "      <td>My wedding loan I promise to pay back</td>\n",
       "      <td>11.20</td>\n",
       "      <td>0</td>\n",
       "      <td>Nov-04</td>\n",
       "      <td>3</td>\n",
       "      <td>34.0</td>\n",
       "      <td>9</td>\n",
       "      <td>0</td>\n",
       "      <td>7963</td>\n",
       "      <td>28.3</td>\n",
       "      <td>12</td>\n",
       "      <td>5632.210000</td>\n",
       "      <td>5632.21</td>\n",
       "      <td>5000.00</td>\n",
       "      <td>632.21</td>\n",
       "      <td>0.00</td>\n",
       "      <td>0.00</td>\n",
       "      <td>0.00</td>\n",
       "      <td>2015-01-01</td>\n",
       "      <td>161.03</td>\n",
       "      <td>2016-01-01</td>\n",
       "      <td>0.0</td>\n",
       "      <td>0</td>\n",
       "    </tr>\n",
       "  </tbody>\n",
       "</table>\n",
       "</div>"
      ],
      "text/plain": [
       "        id  member_id  loan_amnt  funded_amnt  term  int_rate  installment  \\\n",
       "0  1077501    1296599       5000         5000    36     10.65       162.87   \n",
       "1  1077430    1314167       2500         2500    60     15.27        59.83   \n",
       "2  1077175    1313524       2400         2400    36     15.96        84.33   \n",
       "3  1076863    1277178      10000        10000    36     13.49       339.31   \n",
       "4  1075269    1311441       5000         5000    36      7.90       156.46   \n",
       "\n",
       "  grade sub_grade             emp_title emp_length home_ownership  annual_inc  \\\n",
       "0     B        B2               US Army  10+ years           RENT     24000.0   \n",
       "1     C        C4                 Ryder   < 1 year           RENT     30000.0   \n",
       "2     C        C5               US Army  10+ years           RENT     12252.0   \n",
       "3     C        C1   AIR RESOURCES BOARD  10+ years           RENT     49200.0   \n",
       "4     A        A4  Veolia Transportaton    3 years           RENT     36000.0   \n",
       "\n",
       "  verification_status    issue_d  loan_status pymnt_plan         purpose  \\\n",
       "0            Verified 2011-12-01   Fully Paid          n     credit_card   \n",
       "1     Source Verified 2011-12-01  Charged Off          n             car   \n",
       "2        Not Verified 2011-12-01   Fully Paid          n  small_business   \n",
       "3     Source Verified 2011-12-01   Fully Paid          n           other   \n",
       "4     Source Verified 2011-12-01   Fully Paid          n         wedding   \n",
       "\n",
       "                                   title    dti  delinq_2yrs earliest_cr_line  \\\n",
       "0                               Computer  27.65            0           Jan-85   \n",
       "1                                   bike   1.00            0           Apr-99   \n",
       "2                   real estate business   8.72            0           Nov-01   \n",
       "3                               personel  20.00            0           Feb-96   \n",
       "4  My wedding loan I promise to pay back  11.20            0           Nov-04   \n",
       "\n",
       "   inq_last_6mths  mths_since_last_delinq  open_acc  pub_rec  revol_bal  \\\n",
       "0               1                    34.0         3        0      13648   \n",
       "1               5                    34.0         3        0       1687   \n",
       "2               2                    34.0         2        0       2956   \n",
       "3               1                    35.0        10        0       5598   \n",
       "4               3                    34.0         9        0       7963   \n",
       "\n",
       "   revol_util  total_acc   total_pymnt  total_pymnt_inv  total_rec_prncp  \\\n",
       "0        83.7          9   5863.155187          5833.84          5000.00   \n",
       "1         9.4          4   1008.710000          1008.71           456.46   \n",
       "2        98.5         10   3005.666844          3005.67          2400.00   \n",
       "3        21.0         37  12231.890000         12231.89         10000.00   \n",
       "4        28.3         12   5632.210000          5632.21          5000.00   \n",
       "\n",
       "   total_rec_int  total_rec_late_fee  recoveries  collection_recovery_fee  \\\n",
       "0         863.16                0.00        0.00                     0.00   \n",
       "1         435.17                0.00      117.08                     1.11   \n",
       "2         605.67                0.00        0.00                     0.00   \n",
       "3        2214.92               16.97        0.00                     0.00   \n",
       "4         632.21                0.00        0.00                     0.00   \n",
       "\n",
       "  last_pymnt_d  last_pymnt_amnt last_credit_pull_d  pub_rec_bankruptcies  \\\n",
       "0   2015-01-01           171.62         2016-05-01                   0.0   \n",
       "1   2013-04-01           119.66         2013-09-01                   0.0   \n",
       "2   2014-06-01           649.91         2016-05-01                   0.0   \n",
       "3   2015-01-01           357.48         2016-04-01                   0.0   \n",
       "4   2015-01-01           161.03         2016-01-01                   0.0   \n",
       "\n",
       "   default  \n",
       "0        0  \n",
       "1        1  \n",
       "2        0  \n",
       "3        0  \n",
       "4        0  "
      ]
     },
     "execution_count": 142,
     "metadata": {},
     "output_type": "execute_result"
    }
   ],
   "source": [
    "# Check the dataframe after adding the derived column default\n",
    "loan_df_clean.head()"
   ]
  },
  {
   "cell_type": "code",
   "execution_count": 145,
   "id": "211d653b-6bfc-4b4f-8274-cc10f8b943a5",
   "metadata": {},
   "outputs": [
    {
     "data": {
      "image/png": "[encoded data removed]",
      "text/plain": [
       "<Figure size 640x480 with 1 Axes>"
      ]
     },
     "metadata": {},
     "output_type": "display_data"
    }
   ],
   "source": [
    "# Bivariate Analysis\n",
    "# Using grade and default column\n",
    "# As we can clearly see from the bar plot that people\n",
    "# with grade A and B are the lowest risk borrowers\n",
    "# and as the grade goes from C to G\n",
    "# the risk of borrowers keeps increasing\n",
    "# and people with grade \"G\" are highest risk borrowers\n",
    "sns.barplot(x = loan_df_clean[\"grade\"].sort_values(), y = loan_df_clean[\"default\"])\n",
    "plt.title(\"Grade and Default Rate\")\n",
    "plt.xlabel(\"Grade\")\n",
    "plt.ylabel(\"Average Default Rate\")\n",
    "plt.show()"
   ]
  },
  {
   "cell_type": "code",
   "execution_count": 146,
   "id": "5302ceea-b331-4723-a321-1724455ffb5f",
   "metadata": {},
   "outputs": [],
   "source": [
    "# Creating a group by of purpose with avergae value of default column\n",
    "# to find out which purpose has the highest default rate\n",
    "purpose_default_rate = loan_df_clean.groupby('purpose')['default'].mean().reset_index()"
   ]
  },
  {
   "cell_type": "code",
   "execution_count": 147,
   "id": "78663d17-8b8e-4e2f-ba95-ccebd6b86f5e",
   "metadata": {},
   "outputs": [
    {
     "data": {
      "image/png": "[encoded data removed]",
      "text/plain": [
       "<Figure size 640x480 with 1 Axes>"
      ]
     },
     "metadata": {},
     "output_type": "display_data"
    }
   ],
   "source": [
    "# Bivariate Analysis\n",
    "# Using purpose and default column\n",
    "# As we can see clearly from the line plot\n",
    "# People with the purpose of small_business\n",
    "# are the high risk borrowers\n",
    "sns.lineplot(x='purpose', y='default', data=purpose_default_rate, marker='o')\n",
    "plt.title(\"Loan Purpose and Default \")\n",
    "plt.xlabel(\"Purpose\")\n",
    "plt.ylabel(\"Average Default Rate\")\n",
    "plt.xticks(rotation=90)\n",
    "plt.show()"
   ]
  },
  {
   "cell_type": "code",
   "execution_count": 148,
   "id": "8406c133-14d1-4d59-bfdc-fe82c02b6e84",
   "metadata": {},
   "outputs": [],
   "source": [
    "# Creating a group by of home_ownership with avergae value of default column\n",
    "# to find out which home_ownership has the highest default rate\n",
    "home_ownership_default_rate = loan_df_clean.groupby('home_ownership')['default'].mean().reset_index()"
   ]
  },
  {
   "cell_type": "code",
   "execution_count": 149,
   "id": "f094ebc4-aead-4458-850a-61c79469ddae",
   "metadata": {},
   "outputs": [
    {
     "data": {
      "image/png": "[encoded data removed]",
      "text/plain": [
       "<Figure size 640x480 with 1 Axes>"
      ]
     },
     "metadata": {},
     "output_type": "display_data"
    }
   ],
   "source": [
    "# Bivariate Analysis\n",
    "# Using home_ownership and default column\n",
    "# As we can see clearly from the line plot\n",
    "# People with the home_ownership of OTHER\n",
    "# are the high risk borrowers\n",
    "sns.lineplot(x='home_ownership', y='default', data=home_ownership_default_rate, marker='o')\n",
    "plt.title(\"Home Ownership and Default \")\n",
    "plt.xlabel(\"Home Ownership\")\n",
    "plt.ylabel(\"Average Default Rate\")\n",
    "plt.xticks(rotation=90)\n",
    "plt.show()"
   ]
  },
  {
   "cell_type": "code",
   "execution_count": 150,
   "id": "f71970e1-4a0f-4180-8d98-f74a31a98aa3",
   "metadata": {},
   "outputs": [],
   "source": [
    "# Creating a group by of verification_status with avergae value of default column\n",
    "# to find out which verification_status has the highest default rate\n",
    "verification_status_default_rate = loan_df_clean.groupby('verification_status')['default'].mean().reset_index()"
   ]
  },
  {
   "cell_type": "code",
   "execution_count": 151,
   "id": "8a0336bf-60bf-47aa-b6ec-8917f7c82644",
   "metadata": {},
   "outputs": [
    {
     "data": {
      "image/png": "[encoded data removed]",
      "text/plain": [
       "<Figure size 640x480 with 1 Axes>"
      ]
     },
     "metadata": {},
     "output_type": "display_data"
    }
   ],
   "source": [
    "# Bivariate Analysis\n",
    "# Using verification_status and default column\n",
    "# As we can clearly see from the bar plot\n",
    "# Surprisingly the people with Verified status are defaulting the most\n",
    "sns.barplot(x='verification_status', y='default', data=verification_status_default_rate)\n",
    "plt.title(\"Verification Status and Default Rate\")\n",
    "plt.xlabel(\"Verification Status\")\n",
    "plt.ylabel(\"Average Default Rate\")\n",
    "plt.xticks(rotation=90)\n",
    "plt.show()"
   ]
  },
  {
   "cell_type": "markdown",
   "id": "187546db-2ab9-4ca3-8c87-ee4bfced9df7",
   "metadata": {},
   "source": [
    "### Multivariate Analysis"
   ]
  },
  {
   "cell_type": "code",
   "execution_count": 162,
   "id": "3ea8fcbf-d63c-4d22-bfc1-55f72f7a0289",
   "metadata": {},
   "outputs": [],
   "source": [
    "# Creating a list of numerical columns to do the Multivariate Analysis between them\n",
    "numerical_cols = [\n",
    "    'loan_amnt', 'funded_amnt', 'int_rate',\n",
    "    'annual_inc', 'dti', 'revol_util', 'open_acc', 'total_acc',\n",
    "    'delinq_2yrs', 'mths_since_last_delinq', 'inq_last_6mths'\n",
    "]"
   ]
  },
  {
   "cell_type": "code",
   "execution_count": 163,
   "id": "a8b79b3b-3356-4b5f-90cd-fea105410b2a",
   "metadata": {},
   "outputs": [],
   "source": [
    "# Finding the correlation between the different numerical attributes of the data\n",
    "# and saving the data in a new dataFrame\n",
    "loan_df_cor = loan_df_clean[numerical_cols].corr()"
   ]
  },
  {
   "cell_type": "code",
   "execution_count": 164,
   "id": "26c8b22b-920c-4a2e-8d59-20dfe40369eb",
   "metadata": {},
   "outputs": [
    {
     "data": {
      "text/html": [
       "<div>\n",
       "<style scoped>\n",
       "    .dataframe tbody tr th:only-of-type {\n",
       "        vertical-align: middle;\n",
       "    }\n",
       "\n",
       "    .dataframe tbody tr th {\n",
       "        vertical-align: top;\n",
       "    }\n",
       "\n",
       "    .dataframe thead th {\n",
       "        text-align: right;\n",
       "    }\n",
       "</style>\n",
       "<table border=\"1\" class=\"dataframe\">\n",
       "  <thead>\n",
       "    <tr style=\"text-align: right;\">\n",
       "      <th></th>\n",
       "      <th>loan_amnt</th>\n",
       "      <th>funded_amnt</th>\n",
       "      <th>int_rate</th>\n",
       "      <th>annual_inc</th>\n",
       "      <th>dti</th>\n",
       "      <th>revol_util</th>\n",
       "      <th>open_acc</th>\n",
       "      <th>total_acc</th>\n",
       "      <th>delinq_2yrs</th>\n",
       "      <th>mths_since_last_delinq</th>\n",
       "      <th>inq_last_6mths</th>\n",
       "    </tr>\n",
       "  </thead>\n",
       "  <tbody>\n",
       "    <tr>\n",
       "      <th>loan_amnt</th>\n",
       "      <td>1.000000</td>\n",
       "      <td>0.981426</td>\n",
       "      <td>0.251202</td>\n",
       "      <td>0.369451</td>\n",
       "      <td>0.097078</td>\n",
       "      <td>0.078828</td>\n",
       "      <td>0.164302</td>\n",
       "      <td>0.225195</td>\n",
       "      <td>-0.038877</td>\n",
       "      <td>0.010160</td>\n",
       "      <td>-0.000468</td>\n",
       "    </tr>\n",
       "    <tr>\n",
       "      <th>funded_amnt</th>\n",
       "      <td>0.981426</td>\n",
       "      <td>1.000000</td>\n",
       "      <td>0.259529</td>\n",
       "      <td>0.365921</td>\n",
       "      <td>0.096327</td>\n",
       "      <td>0.083675</td>\n",
       "      <td>0.161605</td>\n",
       "      <td>0.219302</td>\n",
       "      <td>-0.039043</td>\n",
       "      <td>0.010652</td>\n",
       "      <td>-0.000227</td>\n",
       "    </tr>\n",
       "    <tr>\n",
       "      <th>int_rate</th>\n",
       "      <td>0.251202</td>\n",
       "      <td>0.259529</td>\n",
       "      <td>1.000000</td>\n",
       "      <td>0.022701</td>\n",
       "      <td>0.105921</td>\n",
       "      <td>0.467799</td>\n",
       "      <td>-0.020339</td>\n",
       "      <td>-0.084856</td>\n",
       "      <td>0.156110</td>\n",
       "      <td>-0.011588</td>\n",
       "      <td>0.133011</td>\n",
       "    </tr>\n",
       "    <tr>\n",
       "      <th>annual_inc</th>\n",
       "      <td>0.369451</td>\n",
       "      <td>0.365921</td>\n",
       "      <td>0.022701</td>\n",
       "      <td>1.000000</td>\n",
       "      <td>-0.065270</td>\n",
       "      <td>0.044157</td>\n",
       "      <td>0.264905</td>\n",
       "      <td>0.380348</td>\n",
       "      <td>0.028047</td>\n",
       "      <td>0.006687</td>\n",
       "      <td>0.029848</td>\n",
       "    </tr>\n",
       "    <tr>\n",
       "      <th>dti</th>\n",
       "      <td>0.097078</td>\n",
       "      <td>0.096327</td>\n",
       "      <td>0.105921</td>\n",
       "      <td>-0.065270</td>\n",
       "      <td>1.000000</td>\n",
       "      <td>0.275606</td>\n",
       "      <td>0.298104</td>\n",
       "      <td>0.247692</td>\n",
       "      <td>-0.029805</td>\n",
       "      <td>0.035383</td>\n",
       "      <td>0.008418</td>\n",
       "    </tr>\n",
       "    <tr>\n",
       "      <th>revol_util</th>\n",
       "      <td>0.078828</td>\n",
       "      <td>0.083675</td>\n",
       "      <td>0.467799</td>\n",
       "      <td>0.044157</td>\n",
       "      <td>0.275606</td>\n",
       "      <td>1.000000</td>\n",
       "      <td>-0.099640</td>\n",
       "      <td>-0.081111</td>\n",
       "      <td>-0.042786</td>\n",
       "      <td>0.059437</td>\n",
       "      <td>-0.066727</td>\n",
       "    </tr>\n",
       "    <tr>\n",
       "      <th>open_acc</th>\n",
       "      <td>0.164302</td>\n",
       "      <td>0.161605</td>\n",
       "      <td>-0.020339</td>\n",
       "      <td>0.264905</td>\n",
       "      <td>0.298104</td>\n",
       "      <td>-0.099640</td>\n",
       "      <td>1.000000</td>\n",
       "      <td>0.683392</td>\n",
       "      <td>0.016754</td>\n",
       "      <td>0.020232</td>\n",
       "      <td>0.091460</td>\n",
       "    </tr>\n",
       "    <tr>\n",
       "      <th>total_acc</th>\n",
       "      <td>0.225195</td>\n",
       "      <td>0.219302</td>\n",
       "      <td>-0.084856</td>\n",
       "      <td>0.380348</td>\n",
       "      <td>0.247692</td>\n",
       "      <td>-0.081111</td>\n",
       "      <td>0.683392</td>\n",
       "      <td>1.000000</td>\n",
       "      <td>0.068018</td>\n",
       "      <td>0.019695</td>\n",
       "      <td>0.107889</td>\n",
       "    </tr>\n",
       "    <tr>\n",
       "      <th>delinq_2yrs</th>\n",
       "      <td>-0.038877</td>\n",
       "      <td>-0.039043</td>\n",
       "      <td>0.156110</td>\n",
       "      <td>0.028047</td>\n",
       "      <td>-0.029805</td>\n",
       "      <td>-0.042786</td>\n",
       "      <td>0.016754</td>\n",
       "      <td>0.068018</td>\n",
       "      <td>1.000000</td>\n",
       "      <td>-0.486554</td>\n",
       "      <td>0.008089</td>\n",
       "    </tr>\n",
       "    <tr>\n",
       "      <th>mths_since_last_delinq</th>\n",
       "      <td>0.010160</td>\n",
       "      <td>0.010652</td>\n",
       "      <td>-0.011588</td>\n",
       "      <td>0.006687</td>\n",
       "      <td>0.035383</td>\n",
       "      <td>0.059437</td>\n",
       "      <td>0.020232</td>\n",
       "      <td>0.019695</td>\n",
       "      <td>-0.486554</td>\n",
       "      <td>1.000000</td>\n",
       "      <td>-0.001001</td>\n",
       "    </tr>\n",
       "    <tr>\n",
       "      <th>inq_last_6mths</th>\n",
       "      <td>-0.000468</td>\n",
       "      <td>-0.000227</td>\n",
       "      <td>0.133011</td>\n",
       "      <td>0.029848</td>\n",
       "      <td>0.008418</td>\n",
       "      <td>-0.066727</td>\n",
       "      <td>0.091460</td>\n",
       "      <td>0.107889</td>\n",
       "      <td>0.008089</td>\n",
       "      <td>-0.001001</td>\n",
       "      <td>1.000000</td>\n",
       "    </tr>\n",
       "  </tbody>\n",
       "</table>\n",
       "</div>"
      ],
      "text/plain": [
       "                        loan_amnt  funded_amnt  int_rate  annual_inc  \\\n",
       "loan_amnt                1.000000     0.981426  0.251202    0.369451   \n",
       "funded_amnt              0.981426     1.000000  0.259529    0.365921   \n",
       "int_rate                 0.251202     0.259529  1.000000    0.022701   \n",
       "annual_inc               0.369451     0.365921  0.022701    1.000000   \n",
       "dti                      0.097078     0.096327  0.105921   -0.065270   \n",
       "revol_util               0.078828     0.083675  0.467799    0.044157   \n",
       "open_acc                 0.164302     0.161605 -0.020339    0.264905   \n",
       "total_acc                0.225195     0.219302 -0.084856    0.380348   \n",
       "delinq_2yrs             -0.038877    -0.039043  0.156110    0.028047   \n",
       "mths_since_last_delinq   0.010160     0.010652 -0.011588    0.006687   \n",
       "inq_last_6mths          -0.000468    -0.000227  0.133011    0.029848   \n",
       "\n",
       "                             dti  revol_util  open_acc  total_acc  \\\n",
       "loan_amnt               0.097078    0.078828  0.164302   0.225195   \n",
       "funded_amnt             0.096327    0.083675  0.161605   0.219302   \n",
       "int_rate                0.105921    0.467799 -0.020339  -0.084856   \n",
       "annual_inc             -0.065270    0.044157  0.264905   0.380348   \n",
       "dti                     1.000000    0.275606  0.298104   0.247692   \n",
       "revol_util              0.275606    1.000000 -0.099640  -0.081111   \n",
       "open_acc                0.298104   -0.099640  1.000000   0.683392   \n",
       "total_acc               0.247692   -0.081111  0.683392   1.000000   \n",
       "delinq_2yrs            -0.029805   -0.042786  0.016754   0.068018   \n",
       "mths_since_last_delinq  0.035383    0.059437  0.020232   0.019695   \n",
       "inq_last_6mths          0.008418   -0.066727  0.091460   0.107889   \n",
       "\n",
       "                        delinq_2yrs  mths_since_last_delinq  inq_last_6mths  \n",
       "loan_amnt                 -0.038877                0.010160       -0.000468  \n",
       "funded_amnt               -0.039043                0.010652       -0.000227  \n",
       "int_rate                   0.156110               -0.011588        0.133011  \n",
       "annual_inc                 0.028047                0.006687        0.029848  \n",
       "dti                       -0.029805                0.035383        0.008418  \n",
       "revol_util                -0.042786                0.059437       -0.066727  \n",
       "open_acc                   0.016754                0.020232        0.091460  \n",
       "total_acc                  0.068018                0.019695        0.107889  \n",
       "delinq_2yrs                1.000000               -0.486554        0.008089  \n",
       "mths_since_last_delinq    -0.486554                1.000000       -0.001001  \n",
       "inq_last_6mths             0.008089               -0.001001        1.000000  "
      ]
     },
     "execution_count": 164,
     "metadata": {},
     "output_type": "execute_result"
    }
   ],
   "source": [
    "# Printing the correlation\n",
    "loan_df_cor"
   ]
  },
  {
   "cell_type": "code",
   "execution_count": 166,
   "id": "7b623874-429a-4c33-ab69-dac9fd42ba1d",
   "metadata": {},
   "outputs": [
    {
     "data": {
      "image/png": "[encoded data removed]",
      "text/plain": [
       "<Figure size 1600x800 with 2 Axes>"
      ]
     },
     "metadata": {},
     "output_type": "display_data"
    }
   ],
   "source": [
    "# Multivariate Analysis\n",
    "# Creating a Heatmap with the correlation data\n",
    "plt.figure(figsize=(16, 8))\n",
    "sns.heatmap(loan_df_cor, cmap = \"Greens\", annot = True)\n",
    "plt.title(\"Correlation Between Different Attributes\")\n",
    "plt.show()"
   ]
  },
  {
   "cell_type": "markdown",
   "id": "0a065e54-2fa7-495a-9ee8-b5a77ec1fe23",
   "metadata": {},
   "source": [
    "#### Understanding of Multivariate Analysis\n",
    "The moderate negative correlation (-0.48) between delinq_2yrs and mths_since_last_delinq suggests that borrowers who have gone longer without a delinquency are less likely to have had many delinquencies recently, which could indicate lower credit risk.\n",
    "\n",
    "The moderate positive correlation (0.46) between int_rate and revol_util suggests that borrowers who use more of their available credit are typically charged higher interest rates. This relationship highlights the use of revol_util as a risk factor in Lending Club, where borrowers with higher revolving credit utilization are considered riskier and therefore face higher costs for borrowing."
   ]
  },
  {
   "cell_type": "code",
   "execution_count": null,
   "id": "f0329ee7-bc95-46da-bb60-b4c9684a9589",
   "metadata": {},
   "outputs": [],
   "source": []
  }
 ],
 "metadata": {
  "kernelspec": {
   "display_name": "Python 3 (ipykernel)",
   "language": "python",
   "name": "python3"
  },
  "language_info": {
   "codemirror_mode": {
    "name": "ipython",
    "version": 3
   },
   "file_extension": ".py",
   "mimetype": "text/x-python",
   "name": "python",
   "nbconvert_exporter": "python",
   "pygments_lexer": "ipython3",
   "version": "3.11.7"
  }
 },
 "nbformat": 4,
 "nbformat_minor": 5
}
